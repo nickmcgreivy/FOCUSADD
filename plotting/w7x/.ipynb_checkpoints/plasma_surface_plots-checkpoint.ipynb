{
 "cells": [
  {
   "cell_type": "code",
   "execution_count": null,
   "metadata": {},
   "outputs": [],
   "source": [
    "import numpy as np\n",
    "import mayavi as maya\n",
    "from mayavi import mlab\n",
    "from functools import partial\n",
    "mlab.init_notebook('x3d',800,800)"
   ]
  },
  {
   "cell_type": "code",
   "execution_count": null,
   "metadata": {},
   "outputs": [],
   "source": [
    "MZ = 12\n",
    "MT = 12\n",
    "R0 = 1.0\n",
    "a = 0.2"
   ]
  },
  {
   "cell_type": "code",
   "execution_count": null,
   "metadata": {},
   "outputs": [],
   "source": []
  },
  {
   "cell_type": "code",
   "execution_count": null,
   "metadata": {},
   "outputs": [],
   "source": [
    "def get_xyz(R, Z, zeta, theta):\n",
    "    r = np.zeros((zeta.shape[0], theta.shape[0]))\n",
    "    z = np.zeros((zeta.shape[0], theta.shape[0]))\n",
    "    for mz in range(-MZ, MZ + 1):\n",
    "        for mt in range(MT):\n",
    "            r += R[mz + MZ, mt] * np.cos( mt * theta[np.newaxis, :] - mz * zeta[:, np.newaxis] )\n",
    "            z += Z[mz + MZ, mt] * np.sin( mt * theta[np.newaxis, :] - mz * zeta[:, np.newaxis] )\n",
    "    x = r * np.cos(zeta)[:, np.newaxis]\n",
    "    y = r * np.sin(zeta)[:, np.newaxis]\n",
    "    return np.concatenate((x[:, :, np.newaxis], y[:, :, np.newaxis], z[:, :, np.newaxis]), axis = -1)\n",
    "\n",
    "\n",
    "def plot_surface(R, Z, NZ, NT):\n",
    "    zeta = np.linspace(0,2 * np.pi, NZ + 1)\n",
    "    theta = np.linspace(0, 2 * np.pi, NT + 1)\n",
    "    r = get_xyz(R, Z, zeta, theta)\n",
    "    x = r[:,:,0]\n",
    "    y = r[:,:,1]\n",
    "    z = r[:,:,2]\n",
    "    p = mlab.mesh(x,y,z,color=(0.8,0.0,0.0))\n",
    "    return p\n",
    "    \n",
    "    "
   ]
  },
  {
   "cell_type": "code",
   "execution_count": null,
   "metadata": {
    "scrolled": false
   },
   "outputs": [],
   "source": [
    "R = np.zeros((2 * MZ + 1, MT))\n",
    "Z = np.zeros((2 * MZ + 1, MT))\n",
    "R[MZ, 0] = R0\n",
    "R[MZ, 1] = a\n",
    "Z[MZ, 1] = a\n",
    "R[MZ+2, 2] = a / 3\n",
    "mlab.clf()\n",
    "p = plot_surface(R, Z, 128, 32)\n",
    "p"
   ]
  },
  {
   "cell_type": "code",
   "execution_count": null,
   "metadata": {},
   "outputs": [],
   "source": []
  }
 ],
 "metadata": {
  "kernelspec": {
   "display_name": "Python 3",
   "language": "python",
   "name": "python3"
  },
  "language_info": {
   "codemirror_mode": {
    "name": "ipython",
    "version": 3
   },
   "file_extension": ".py",
   "mimetype": "text/x-python",
   "name": "python",
   "nbconvert_exporter": "python",
   "pygments_lexer": "ipython3",
   "version": "3.7.7"
  }
 },
 "nbformat": 4,
 "nbformat_minor": 4
}
