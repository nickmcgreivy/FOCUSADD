{
 "cells": [
  {
   "cell_type": "code",
   "execution_count": null,
   "metadata": {},
   "outputs": [],
   "source": [
    "import pandas as pd\n",
    "import numpy as np\n",
    "import mayavi as maya\n",
    "from mayavi import mlab\n",
    "from functools import partial\n",
    "mlab.init_notebook('x3d',800,800)"
   ]
  },
  {
   "cell_type": "code",
   "execution_count": null,
   "metadata": {},
   "outputs": [],
   "source": [
    "MZ = 12\n",
    "MT = 12\n",
    "def read_w7x(filename):\n",
    "    R = np.zeros((25, 12))\n",
    "    Z = np.zeros((25, 12))\n",
    "    with open(filename) as f:\n",
    "        _ = f.readline()\n",
    "        _, Nfp, _ = f.readline().split()\n",
    "        Nfp = int(Nfp)\n",
    "        _ = f.readline()\n",
    "        _ = f.readline()\n",
    "        for i in range(288):\n",
    "            n, m, rc, _, _, zs = f.readline().split()\n",
    "            n = int(n)\n",
    "            m = int(m)\n",
    "            rc = float(rc)\n",
    "            zs = float(zs)\n",
    "            R[n + 12, m] = rc\n",
    "            Z[n + 12, m] = zs\n",
    "    return R, Z, Nfp\n",
    "\n",
    "def get_xyz(R, Z, zeta, theta, Nfp):\n",
    "    r = np.zeros((zeta.shape[0], theta.shape[0]))\n",
    "    z = np.zeros((zeta.shape[0], theta.shape[0]))\n",
    "    for mz in range(-MZ, MZ + 1):\n",
    "        for mt in range(MT):\n",
    "            r += R[mz + MZ, mt] * np.cos( mt * theta[np.newaxis, :] - mz * Nfp * zeta[:, np.newaxis] )\n",
    "            z += Z[mz + MZ, mt] * np.sin( mt * theta[np.newaxis, :] - mz * Nfp * zeta[:, np.newaxis] )\n",
    "    x = r * np.cos(zeta)[:, np.newaxis]\n",
    "    y = r * np.sin(zeta)[:, np.newaxis]\n",
    "    return np.concatenate((x[:, :, np.newaxis], y[:, :, np.newaxis], z[:, :, np.newaxis]), axis = -1)\n",
    "\n",
    "\n",
    "def plot_surface(R, Z, NZ, NT, Nfp):\n",
    "    zeta = np.linspace(0,2 * np.pi, NZ + 1)\n",
    "    theta = np.linspace(0, 2 * np.pi, NT + 1)\n",
    "    r = get_xyz(R, Z, zeta, theta, Nfp)\n",
    "    x = r[:,:,0]\n",
    "    y = r[:,:,1]\n",
    "    z = r[:,:,2]\n",
    "    p = mlab.mesh(x,y,z,color=(0.8,0.0,0.0))\n",
    "    return p\n",
    "\n",
    "def compute_drdz(R, Z, zeta, theta, Nfp):\n",
    "    x = np.zeros((zeta.shape[0], theta.shape[0]))\n",
    "    y = np.zeros((zeta.shape[0], theta.shape[0]))\n",
    "    z = np.zeros((zeta.shape[0], theta.shape[0]))\n",
    "    for mz in range(-MZ, MZ + 1):\n",
    "        for mt in range(MT):\n",
    "            coeff = R[mz + MZ, mt]\n",
    "            z_coeff = Z[mz + MZ, mt]\n",
    "            arg = mt * theta[np.newaxis, :] - mz * Nfp * zeta[:, np.newaxis]\n",
    "            x += coeff * np.cos(arg) * (-np.sin(zeta[:, np.newaxis])) + coeff * (mz * Nfp) * np.cos(zeta[:, np.newaxis]) * np.sin(arg)\n",
    "            y += coeff * np.cos(arg) * np.cos(zeta[:, np.newaxis]) + coeff * (mz * Nfp) * np.sin(arg) * np.sin(zeta[:, np.newaxis])\n",
    "            z += z_coeff * np.cos(arg) * -(mz * Nfp)\n",
    "    return np.concatenate((x[:, :, np.newaxis], y[:, :, np.newaxis], z[:, :, np.newaxis]), axis = -1)\n",
    "\n",
    "def compute_drdt(R, Z, zeta, theta, Nfp):\n",
    "    x = np.zeros((zeta.shape[0], theta.shape[0]))\n",
    "    y = np.zeros((zeta.shape[0], theta.shape[0]))\n",
    "    z = np.zeros((zeta.shape[0], theta.shape[0]))\n",
    "    for mz in range(-MZ, MZ + 1):\n",
    "        for mt in range(MT):\n",
    "            coeff = R[mz + MZ, mt]\n",
    "            z_coeff = Z[mz + MZ, mt]\n",
    "            arg = mt * theta[np.newaxis, :] - mz * Nfp * zeta[:, np.newaxis]\n",
    "            x += coeff * np.sin(arg) * -mt * np.cos(zeta[:, np.newaxis])\n",
    "            y += coeff * np.sin(arg) * -mt * np.sin(zeta[:, np.newaxis])\n",
    "            z += z_coeff * np.cos(arg) * mt\n",
    "    return np.concatenate((x[:, :, np.newaxis], y[:, :, np.newaxis], z[:, :, np.newaxis]), axis = -1)\n",
    "\n",
    "def get_w7x_data(R, Z, NZ, NT, Nfp):\n",
    "    zeta = np.linspace(0,2 * np.pi, NZ + 1)\n",
    "    theta = np.linspace(0, 2 * np.pi, NT + 1)\n",
    "    r = get_xyz(R, Z, zeta, theta, Nfp)\n",
    "    drdz = compute_drdz(R, Z, zeta, theta, Nfp)\n",
    "    drdt = compute_drdt(R, Z, zeta, theta, Nfp)\n",
    "    N = np.cross(drdz, drdt)\n",
    "    sg = np.linalg.norm(N, axis=-1)\n",
    "    nn = N / sg[:,:,np.newaxis]\n",
    "    return r, nn, sg\n",
    "    \n",
    "def plot_coils(r_coils):\n",
    "    for ic in range(r_coils.shape[0]):\n",
    "        p = mlab.plot3d(r_coils[ic,:,0], r_coils[ic,:,1], r_coils[ic,:,2], tube_radius=0.04, color = (0.0, 0.0, 0.8))#, line_width = 0.01,)\n",
    "    return p\n",
    "    "
   ]
  },
  {
   "cell_type": "code",
   "execution_count": null,
   "metadata": {},
   "outputs": [],
   "source": [
    "R, Z, Nfp = read_w7x(\"../../focusadd/initFiles/w7x/plasma.boundary_std\")"
   ]
  },
  {
   "cell_type": "code",
   "execution_count": null,
   "metadata": {},
   "outputs": [],
   "source": [
    "mlab.clf()\n",
    "p = plot_surface(R, Z, 128, 32, Nfp)\n",
    "p"
   ]
  },
  {
   "cell_type": "code",
   "execution_count": null,
   "metadata": {},
   "outputs": [],
   "source": [
    "r, nn, sg = get_w7x_data(R, Z, 5 * 30, 16, Nfp)"
   ]
  },
  {
   "cell_type": "code",
   "execution_count": null,
   "metadata": {},
   "outputs": [],
   "source": [
    "mlab.clf()\n",
    "x = r[:,:,0]\n",
    "y = r[:,:,1]\n",
    "z = r[:,:,2]\n",
    "p = mlab.mesh(x,y,z,color=(0.8,0.0,0.0))\n",
    "nn_x = nn[:,:,0]\n",
    "nn_y = nn[:,:,1]\n",
    "nn_z = nn[:,:,2]\n",
    "s = mlab.quiver3d(x[::,::],y[::,::],z[::,::],sg*nn_x[::,::],sg*nn_y[::,::],sg*nn_z[::,::])\n",
    "s"
   ]
  },
  {
   "cell_type": "code",
   "execution_count": null,
   "metadata": {},
   "outputs": [],
   "source": [
    "def read_coils(filename):\n",
    "    r = np.zeros((50, 96, 3))\n",
    "    with open(filename) as f:\n",
    "        _ = f.readline()\n",
    "        _ = f.readline()\n",
    "        _ = f.readline()\n",
    "        for i in range(50):\n",
    "            for s in range(96):\n",
    "                x, y, z, _ = f.readline().split()\n",
    "                r[i, s, 0] = float(x)\n",
    "                r[i, s, 1] = float(y)\n",
    "                r[i, s, 2] = float(z)\n",
    "            _ = f.readline()\n",
    "    return r"
   ]
  },
  {
   "cell_type": "code",
   "execution_count": null,
   "metadata": {},
   "outputs": [],
   "source": [
    "r_c = read_coils(\"../../focusadd/initFiles/w7x/coils.std_mc\")"
   ]
  },
  {
   "cell_type": "code",
   "execution_count": null,
   "metadata": {},
   "outputs": [],
   "source": []
  },
  {
   "cell_type": "code",
   "execution_count": null,
   "metadata": {},
   "outputs": [],
   "source": [
    "p = plot_coils(r_c)\n",
    "p"
   ]
  },
  {
   "cell_type": "code",
   "execution_count": null,
   "metadata": {},
   "outputs": [],
   "source": [
    "def compute_coil_fourierSeries(NF, r_centroid):\n",
    "        NC = r_centroid.shape[0]\n",
    "        NS = r_centroid.shape[1]\n",
    "        x = r_centroid[:, :, 0]\n",
    "        y = r_centroid[:, :, 1]\n",
    "        z = r_centroid[:, :, 2]\n",
    "        xc = np.zeros((NC, NF))\n",
    "        yc = np.zeros((NC, NF))\n",
    "        zc = np.zeros((NC, NF))\n",
    "        xs = np.zeros((NC, NF))\n",
    "        ys = np.zeros((NC, NF))\n",
    "        zs = np.zeros((NC, NF))\n",
    "        xc[:,0] += np.sum(x, axis=1) / NS\n",
    "        yc[:,0] += np.sum(y, axis=1) / NS\n",
    "        zc[:,0] += np.sum(z, axis=1) / NS\n",
    "        theta = np.linspace(0, 2 * np.pi, NS + 1)[0:NS]\n",
    "        for m in range(1, NF):\n",
    "            xc[:, m] += 2.0 * np.sum(x * np.cos(m * theta), axis=1) / NS\n",
    "            yc[:, m] += 2.0 * np.sum(y * np.cos(m * theta), axis=1) / NS\n",
    "            zc[:, m] += 2.0 * np.sum(z * np.cos(m * theta), axis=1) / NS\n",
    "            xs[:, m] += 2.0 * np.sum(x * np.sin(m * theta), axis=1) / NS\n",
    "            ys[:, m] += 2.0 * np.sum(y * np.sin(m * theta), axis=1) / NS\n",
    "            zs[:, m] += 2.0 * np.sum(z * np.sin(m * theta), axis=1) / NS\n",
    "        return np.asarray([xc, yc, zc, xs, ys, zs])  # 6 x NC x NF"
   ]
  },
  {
   "cell_type": "code",
   "execution_count": null,
   "metadata": {},
   "outputs": [],
   "source": [
    "fc = compute_coil_fourierSeries(10, r_c)\n",
    "print(fc.shape)"
   ]
  },
  {
   "cell_type": "code",
   "execution_count": null,
   "metadata": {},
   "outputs": [],
   "source": [
    "    def compute_r_centroid(NS, fc):\n",
    "        theta = np.linspace(0, 2 * np.pi, NS + 1)\n",
    "        NC = fc.shape[1]\n",
    "        NF = fc.shape[2]\n",
    "        xc = fc[0]\n",
    "        yc = fc[1]\n",
    "        zc = fc[2]\n",
    "        xs = fc[3]\n",
    "        ys = fc[4]\n",
    "        zs = fc[5]\n",
    "        x = np.zeros((NC, NS + 1))\n",
    "        y = np.zeros((NC, NS + 1))\n",
    "        z = np.zeros((NC, NS + 1))\n",
    "        for m in range(NF):\n",
    "            arg = m * theta\n",
    "            carg = np.cos(arg)\n",
    "            sarg = np.sin(arg)\n",
    "            x += (\n",
    "                xc[:, np.newaxis, m] * carg[np.newaxis, :]\n",
    "                + xs[:, np.newaxis, m] * sarg[np.newaxis, :]\n",
    "            )\n",
    "            y += (\n",
    "                yc[:, np.newaxis, m] * carg[np.newaxis, :]\n",
    "                + ys[:, np.newaxis, m] * sarg[np.newaxis, :]\n",
    "            )\n",
    "            z += (\n",
    "                zc[:, np.newaxis, m] * carg[np.newaxis, :]\n",
    "                + zs[:, np.newaxis, m] * sarg[np.newaxis, :]\n",
    "            )\n",
    "        return np.concatenate(\n",
    "            (x[:, :, np.newaxis], y[:, :, np.newaxis], z[:, :, np.newaxis]), axis=2\n",
    "        )"
   ]
  },
  {
   "cell_type": "code",
   "execution_count": null,
   "metadata": {},
   "outputs": [],
   "source": [
    "r_c_2 = compute_r_centroid(96, fc)"
   ]
  },
  {
   "cell_type": "code",
   "execution_count": null,
   "metadata": {},
   "outputs": [],
   "source": [
    "mlab.clf()\n",
    "p = plot_surface(R, Z, 128, 32, Nfp)\n",
    "p = plot_coils(r_c_2)\n",
    "p"
   ]
  },
  {
   "cell_type": "code",
   "execution_count": null,
   "metadata": {},
   "outputs": [],
   "source": [
    "with open('w7x_r_surf.npy', 'wb') as f:\n",
    "    np.save(f, r)\n",
    "with open('w7x_nn_surf.npy', 'wb') as f:\n",
    "    np.save(f, nn)\n",
    "with open('w7x_sg_surf.npy', 'wb') as f:\n",
    "    np.save(f, sg)\n",
    "with open('w7x_fc.npy', 'wb') as f:\n",
    "    np.save(f, fc)"
   ]
  },
  {
   "cell_type": "code",
   "execution_count": null,
   "metadata": {},
   "outputs": [],
   "source": []
  }
 ],
 "metadata": {
  "kernelspec": {
   "display_name": "Python 3",
   "language": "python",
   "name": "python3"
  },
  "language_info": {
   "codemirror_mode": {
    "name": "ipython",
    "version": 3
   },
   "file_extension": ".py",
   "mimetype": "text/x-python",
   "name": "python",
   "nbconvert_exporter": "python",
   "pygments_lexer": "ipython3",
   "version": "3.7.7"
  }
 },
 "nbformat": 4,
 "nbformat_minor": 4
}
