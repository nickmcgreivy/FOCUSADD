{
 "cells": [
  {
   "cell_type": "code",
   "execution_count": null,
   "metadata": {},
   "outputs": [],
   "source": [
    "from mayavi import mlab\n",
    "mlab.init_notebook()\n",
    "import sys\n",
    "sys.path.append(\"..\")"
   ]
  },
  {
   "cell_type": "code",
   "execution_count": null,
   "metadata": {},
   "outputs": [],
   "source": [
    "import numpy as numpy\n",
    "import jax.numpy as np\n",
    "import mayavi as maya\n",
    "import focusadd\n",
    "from numpy import cos, sin"
   ]
  },
  {
   "cell_type": "code",
   "execution_count": null,
   "metadata": {},
   "outputs": [],
   "source": [
    "from focusadd.surface.readAxis import readAxis\n",
    "from focusadd.surface.Surface import Surface\n",
    "from focusadd.coils.CoilSet import CoilSet"
   ]
  },
  {
   "cell_type": "code",
   "execution_count": null,
   "metadata": {},
   "outputs": [],
   "source": [
    "def getSurface():\n",
    "    # Initialize the arguments to be used by the program\n",
    "    \n",
    "\n",
    "    # Read and return the axis\n",
    "    axis, epsilon, minor_rad, N_rotate, zeta_off = readAxis(\"../focusadd/initFiles/axes/defaultAxis.txt\",64)\n",
    "    epsilon = 1.0\n",
    "    # Create the surface\n",
    "    return Surface(axis, 64, 32, epsilon, minor_rad, N_rotate, zeta_off,1.0)\n",
    "\n",
    "def getCoilSet():\n",
    "    surface = getSurface()\n",
    "    args_dict = {}\n",
    "    args_dict['numCoils'] = 8\n",
    "    args_dict['numSegments'] = 128\n",
    "    args_dict['numFourierCoils'] = 4\n",
    "    args_dict['numFourierRotate'] = 4\n",
    "    args_dict['lengthNormal'] = 0.02\n",
    "    args_dict['lengthBinormal'] = 0.02\n",
    "    args_dict['numNormalRotate'] = 2\n",
    "    args_dict['numBinormalRotate'] = 2\n",
    "    args_dict['radiusCoil'] = 2.0\n",
    "    args_dict['numRotate'] = 0\n",
    "    coilSet = CoilSet(surface,input_file=\"../focusadd/coils/saved/resultCoils.hdf5\")\n",
    "    coilSet.set_params(coilSet.get_params())\n",
    "    return coilSet"
   ]
  },
  {
   "cell_type": "code",
   "execution_count": null,
   "metadata": {},
   "outputs": [],
   "source": [
    "def plotCoilSet():\n",
    "    coilset = getCoilSet()\n",
    "    r_coils = coilset.get_r()\n",
    "    r_central = coilset.get_r_central()\n",
    "    surface = getSurface()\n",
    "    r = surface.get_r()\n",
    "    x = r[:,:,0]\n",
    "    y = r[:,:,1]\n",
    "    z = r[:,:,2]\n",
    "    p = mlab.mesh(x,y,z,colormap=\"bone\")\n",
    "    for ic in range(r_coils.shape[0]):\n",
    "        for n in range(r_coils.shape[2]):\n",
    "            for b in range(r_coils.shape[3]):\n",
    "                p = mlab.plot3d(r_coils[ic,:,n,b,0],r_coils[ic,:,n,b,1],r_coils[ic,:,n,b,2],tube_radius=0.002, line_width = 0.01, colormap=\"Spectral\")\n",
    "                #p = mlab.plot3d(r_central[ic,:,0],r_central[ic,:,1],r_central[ic,:,2],tube_radius=0.002, line_width = 0.01, colormap=\"Spectral\")\n",
    "    return p"
   ]
  },
  {
   "cell_type": "code",
   "execution_count": null,
   "metadata": {},
   "outputs": [],
   "source": [
    "mlab.clf()\n",
    "p = plotCoilSet()\n",
    "p"
   ]
  },
  {
   "cell_type": "code",
   "execution_count": null,
   "metadata": {},
   "outputs": [],
   "source": []
  }
 ],
 "metadata": {
  "kernelspec": {
   "display_name": "Python 3",
   "language": "python",
   "name": "python3"
  },
  "language_info": {
   "codemirror_mode": {
    "name": "ipython",
    "version": 3
   },
   "file_extension": ".py",
   "mimetype": "text/x-python",
   "name": "python",
   "nbconvert_exporter": "python",
   "pygments_lexer": "ipython3",
   "version": "3.7.7"
  }
 },
 "nbformat": 4,
 "nbformat_minor": 2
}
