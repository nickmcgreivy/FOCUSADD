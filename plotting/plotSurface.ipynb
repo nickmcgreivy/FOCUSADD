{
 "cells": [
  {
   "cell_type": "code",
   "execution_count": 2,
   "metadata": {},
   "outputs": [
    {
     "name": "stdout",
     "output_type": "stream",
     "text": [
      "Notebook initialized with x3d backend.\n"
     ]
    }
   ],
   "source": [
    "from mayavi import mlab\n",
    "mlab.init_notebook()\n",
    "import sys\n",
    "sys.path.append(\"..\")"
   ]
  },
  {
   "cell_type": "code",
   "execution_count": 3,
   "metadata": {},
   "outputs": [],
   "source": [
    "import numpy as np\n",
    "import mayavi as maya\n",
    "import focusadd\n",
    "from numpy import cos, sin\n",
    "import argparse"
   ]
  },
  {
   "cell_type": "code",
   "execution_count": null,
   "metadata": {},
   "outputs": [],
   "source": [
    "import focusadd.surface.readAxis as readAxis"
   ]
  },
  {
   "cell_type": "code",
   "execution_count": null,
   "metadata": {},
   "outputs": [],
   "source": [
    "def setArgs():\n",
    "    parser = argparse.ArgumentParser()\n",
    "    parser.add_argument(\"-n\",\"--numIter\", help=\"Number of iterations by the optimizer\", default=10)\n",
    "    parser.add_argument(\"-nt\",\"--numTheta\", help=\"Number of gridpoints in theta (poloidal angle) on the magnetic surface\", default=32)\n",
    "    parser.add_argument(\"-nz\",\"--numZeta\", help=\"Number of gridpoints in zeta (toroidal angle) on the magnetic surface\", default=64)\n",
    "    return parser.parse_args()\n",
    "\n",
    "\n",
    "def main():\n",
    "    # Initialize the arguments to be used by the program\n",
    "    args = setArgs()\n",
    "\n",
    "    # Read and return the axis\n",
    "    axis, epsilon, minor_rad, N_rotate, zeta_off = readAxis(\"./initFiles/axes/defaultAxis.txt\",args.numZeta)\n",
    "\n",
    "    # Create the surface\n",
    "    surface = Surface(axis, args.numZeta, args.numTheta, epsilon, minor_rad, N_rotate, zeta_off)"
   ]
  }
 ],
 "metadata": {
  "kernelspec": {
   "display_name": "Python 3",
   "language": "python",
   "name": "python3"
  },
  "language_info": {
   "codemirror_mode": {
    "name": "ipython",
    "version": 3
   },
   "file_extension": ".py",
   "mimetype": "text/x-python",
   "name": "python",
   "nbconvert_exporter": "python",
   "pygments_lexer": "ipython3",
   "version": "3.7.4"
  }
 },
 "nbformat": 4,
 "nbformat_minor": 2
}
