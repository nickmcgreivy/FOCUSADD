{
 "cells": [
  {
   "cell_type": "code",
   "execution_count": 1,
   "metadata": {},
   "outputs": [
    {
     "name": "stdout",
     "output_type": "stream",
     "text": [
      "Notebook initialized with x3d backend.\n"
     ]
    }
   ],
   "source": [
    "from mayavi import mlab\n",
    "mlab.init_notebook()\n",
    "import sys\n",
    "sys.path.append(\"..\")"
   ]
  },
  {
   "cell_type": "code",
   "execution_count": 2,
   "metadata": {},
   "outputs": [],
   "source": [
    "import numpy as np\n",
    "import mayavi as maya\n",
    "import focusadd\n",
    "from numpy import cos, sin"
   ]
  },
  {
   "cell_type": "code",
   "execution_count": 3,
   "metadata": {},
   "outputs": [],
   "source": [
    "from focusadd.surface.readAxis import readAxis\n",
    "from focusadd.surface.Surface import Surface"
   ]
  },
  {
   "cell_type": "code",
   "execution_count": null,
   "metadata": {},
   "outputs": [],
   "source": []
  },
  {
   "cell_type": "code",
   "execution_count": 4,
   "metadata": {},
   "outputs": [],
   "source": [
    "def getSurface():\n",
    "    # Initialize the arguments to be used by the program\n",
    "    \n",
    "\n",
    "    # Read and return the axis\n",
    "    axis, epsilon, minor_rad, N_rotate, zeta_off = readAxis(\"../focusadd/initFiles/axes/defaultAxis.txt\",64)\n",
    "    epsilon = 0.5\n",
    "    # Create the surface\n",
    "    return Surface(axis, 64, 32, epsilon, minor_rad, N_rotate, zeta_off,1.0)"
   ]
  },
  {
   "cell_type": "code",
   "execution_count": 5,
   "metadata": {},
   "outputs": [],
   "source": [
    "def plotSurface():\n",
    "    surface = getSurface()\n",
    "    r = surface.get_r()\n",
    "    nn = surface.get_nn()\n",
    "    x = r[:,:,0]\n",
    "    y = r[:,:,1]\n",
    "    z = r[:,:,2]\n",
    "    nn_x = nn[:,:,0]\n",
    "    nn_y = nn[:,:,1]\n",
    "    nn_z = nn[:,:,2]\n",
    "    s = mlab.mesh(x,y,z,colormap=\"bone\")\n",
    "    #n = mlab.quiver3d(x[::,::],y[::,::],z[::,::],nn_x[::,::],nn_y[::,::],nn_z[::,::],line_width=20.)\n",
    "    return s#,n"
   ]
  },
  {
   "cell_type": "code",
   "execution_count": null,
   "metadata": {},
   "outputs": [
    {
     "name": "stderr",
     "output_type": "stream",
     "text": [
      "/opt/anaconda3/lib/python3.7/site-packages/jax/lib/xla_bridge.py:119: UserWarning: No GPU/TPU found, falling back to CPU.\n",
      "  warnings.warn('No GPU/TPU found, falling back to CPU.')\n"
     ]
    }
   ],
   "source": [
    "mlab.clf()\n",
    "s  = plotSurface()\n",
    "s"
   ]
  },
  {
   "cell_type": "code",
   "execution_count": null,
   "metadata": {},
   "outputs": [],
   "source": []
  }
 ],
 "metadata": {
  "kernelspec": {
   "display_name": "Python 3",
   "language": "python",
   "name": "python3"
  },
  "language_info": {
   "codemirror_mode": {
    "name": "ipython",
    "version": 3
   },
   "file_extension": ".py",
   "mimetype": "text/x-python",
   "name": "python",
   "nbconvert_exporter": "python",
   "pygments_lexer": "ipython3",
   "version": "3.7.4"
  }
 },
 "nbformat": 4,
 "nbformat_minor": 2
}
