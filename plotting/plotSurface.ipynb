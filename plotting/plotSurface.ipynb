{
 "cells": [
  {
   "cell_type": "code",
   "execution_count": null,
   "metadata": {},
   "outputs": [],
   "source": [
    "from mayavi import mlab\n",
    "mlab.init_notebook('x3d',800,800)\n",
    "import sys\n",
    "sys.path.append(\"..\")"
   ]
  },
  {
   "cell_type": "code",
   "execution_count": null,
   "metadata": {},
   "outputs": [],
   "source": [
    "import numpy as np\n",
    "import mayavi as maya\n",
    "import focusadd\n",
    "from numpy import cos, sin"
   ]
  },
  {
   "cell_type": "code",
   "execution_count": null,
   "metadata": {},
   "outputs": [],
   "source": [
    "from focusadd.surface.readAxis import read_axis\n",
    "from focusadd.surface.Surface import Surface"
   ]
  },
  {
   "cell_type": "code",
   "execution_count": null,
   "metadata": {},
   "outputs": [],
   "source": []
  },
  {
   "cell_type": "code",
   "execution_count": null,
   "metadata": {},
   "outputs": [],
   "source": [
    "def getSurface(NZ, NT):\n",
    "    # Initialize the arguments to be used by the program\n",
    "    return Surface(\"../focusadd/initFiles/axes/ellipticalAxis4Rotate.txt\", NZ, NT, 1.0)"
   ]
  },
  {
   "cell_type": "code",
   "execution_count": null,
   "metadata": {},
   "outputs": [],
   "source": [
    "def plotSurface(NZ, NT, color = (0.8, 0.0, 0.0)):\n",
    "    surface = getSurface(NZ, NT)\n",
    "    r = surface.get_r_central()\n",
    "    nn = surface.get_nn()\n",
    "    x = r[:,:,0]\n",
    "    y = r[:,:,1]\n",
    "    z = r[:,:,2]\n",
    "    nn_x = nn[:,:,0]\n",
    "    nn_y = nn[:,:,1]\n",
    "    nn_z = nn[:,:,2]\n",
    "    s = mlab.mesh(x,y,z,color=color)\n",
    "    s = mlab.quiver3d(x[::4,::4],y[::4,::4],z[::4,::4],nn_x[::4,::4],nn_y[::4,::4],nn_z[::4,::4])\n",
    "    return s"
   ]
  },
  {
   "cell_type": "code",
   "execution_count": null,
   "metadata": {},
   "outputs": [],
   "source": [
    "mlab.clf()\n",
    "#s = plotSurface(4,32)\n",
    "s = plotSurface(32, 32, color=(0.0,0.8,0.0))\n",
    "#s = plotSurface(8, 32, color=(0.0,0.0,0.8))\n",
    "s\n"
   ]
  },
  {
   "cell_type": "code",
   "execution_count": null,
   "metadata": {},
   "outputs": [],
   "source": []
  },
  {
   "cell_type": "code",
   "execution_count": null,
   "metadata": {},
   "outputs": [],
   "source": []
  },
  {
   "cell_type": "code",
   "execution_count": null,
   "metadata": {},
   "outputs": [],
   "source": []
  }
 ],
 "metadata": {
  "kernelspec": {
   "display_name": "Python 3",
   "language": "python",
   "name": "python3"
  },
  "language_info": {
   "codemirror_mode": {
    "name": "ipython",
    "version": 3
   },
   "file_extension": ".py",
   "mimetype": "text/x-python",
   "name": "python",
   "nbconvert_exporter": "python",
   "pygments_lexer": "ipython3",
   "version": "3.7.7"
  }
 },
 "nbformat": 4,
 "nbformat_minor": 2
}
