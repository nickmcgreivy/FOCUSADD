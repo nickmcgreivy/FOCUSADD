{
 "cells": [
  {
   "cell_type": "code",
   "execution_count": null,
   "metadata": {},
   "outputs": [],
   "source": [
    "from mayavi import mlab\n",
    "mlab.init_notebook()\n",
    "import sys\n",
    "sys.path.append(\"../focusadd\")"
   ]
  },
  {
   "cell_type": "code",
   "execution_count": null,
   "metadata": {},
   "outputs": [],
   "source": [
    "import numpy as numpy\n",
    "import jax.numpy as np\n",
    "import jax\n",
    "from jax.ops import index_add\n",
    "import mayavi as maya\n",
    "from numpy import cos, sin"
   ]
  },
  {
   "cell_type": "code",
   "execution_count": null,
   "metadata": {},
   "outputs": [],
   "source": [
    "from surface.readAxis import readAxis\n",
    "from surface.Surface import Surface\n",
    "from coils.CoilSet import CoilSet\n",
    "from shapeGradient.ShapeGradient import ShapeGradient"
   ]
  },
  {
   "cell_type": "code",
   "execution_count": null,
   "metadata": {},
   "outputs": [],
   "source": [
    "def getSurface():\n",
    "    # Initialize the arguments to be used by the program\n",
    "    \n",
    "\n",
    "    # Read and return the axis\n",
    "    axis, epsilon, minor_rad, N_rotate, zeta_off = readAxis(\"../focusadd/initFiles/axes/ellipticalAxis3Rotate.txt\",64)\n",
    "    # Create the surface\n",
    "    return Surface(axis, 64, 32, epsilon, minor_rad, N_rotate, zeta_off,1.0)\n",
    "\n",
    "def getCoilSet():\n",
    "    surface = getSurface()\n",
    "    coilSet = CoilSet(surface,input_file=\"../focusadd/coils/saved/16coilsElliptical3Rotate.hdf5\")\n",
    "    coilSet.set_params(coilSet.get_params())\n",
    "    return coilSet\n",
    "\n",
    "def getShapeGradient(surface,coilSet):\n",
    "    shapegrad = ShapeGradient(surface, coilSet)\n",
    "    return shapegrad.coil_gradient()"
   ]
  },
  {
   "cell_type": "code",
   "execution_count": null,
   "metadata": {},
   "outputs": [],
   "source": [
    "def plotCoilSet():\n",
    "    coilset = getCoilSet()\n",
    "    r_coils = coilset.get_r()\n",
    "    r_central = coilset.get_r_central()\n",
    "    surface = getSurface()\n",
    "    shape_grad = getShapeGradient(surface, coilset)\n",
    "    shape_grad = jax.ops.index_update(shape_grad, jax.ops.index[:,0,:,:,:], 0.)\n",
    "    shape_grad = jax.ops.index_update(shape_grad, jax.ops.index[:,-1,:,:,:], 0.)\n",
    "    r = surface.get_r()\n",
    "    x = r[:,:,0]\n",
    "    y = r[:,:,1]\n",
    "    z = r[:,:,2]\n",
    "    p = mlab.mesh(x,y,z,colormap=\"bone\")\n",
    "    for ic in range(r_coils.shape[0]):\n",
    "        for n in range(r_coils.shape[2]):\n",
    "            for b in range(r_coils.shape[3]):\n",
    "                p = mlab.plot3d(r_coils[ic,:,n,b,0],r_coils[ic,:,n,b,1],r_coils[ic,:,n,b,2],tube_radius=0.002, line_width = 0.01, colormap=\"Spectral\")\n",
    "                p = mlab.quiver3d(r_coils[ic,:,n,b,0],r_coils[ic,:,n,b,1],r_coils[ic,:,n,b,2],shape_grad[ic,:,n,b,0],shape_grad[ic,:,n,b,1],shape_grad[ic,:,n,b,2])\n",
    "    return p"
   ]
  },
  {
   "cell_type": "code",
   "execution_count": null,
   "metadata": {},
   "outputs": [],
   "source": [
    "mlab.clf()\n",
    "p = plotCoilSet()\n",
    "p"
   ]
  },
  {
   "cell_type": "code",
   "execution_count": null,
   "metadata": {},
   "outputs": [],
   "source": []
  }
 ],
 "metadata": {
  "kernelspec": {
   "display_name": "Python 3",
   "language": "python",
   "name": "python3"
  },
  "language_info": {
   "codemirror_mode": {
    "name": "ipython",
    "version": 3
   },
   "file_extension": ".py",
   "mimetype": "text/x-python",
   "name": "python",
   "nbconvert_exporter": "python",
   "pygments_lexer": "ipython3",
   "version": "3.7.7"
  }
 },
 "nbformat": 4,
 "nbformat_minor": 2
}
