{
 "cells": [
  {
   "cell_type": "code",
   "execution_count": null,
   "metadata": {},
   "outputs": [],
   "source": [
    "import sys\n",
    "sys.path.append(\"../../..\")\n",
    "import numpy as np\n",
    "import focusadd\n",
    "from focusadd.surface.Surface import Surface\n",
    "from focusadd.coils.CoilSet import CoilSet\n",
    "import numpy as np\n",
    "import mayavi as maya\n",
    "from mayavi import mlab\n",
    "mlab.init_notebook('x3d', 800, 800)"
   ]
  },
  {
   "cell_type": "code",
   "execution_count": null,
   "metadata": {},
   "outputs": [],
   "source": [
    "mlab.clf()\n",
    "surface = Surface(\"../../../focusadd/initFiles/axes/ellipticalAxis4Rotate.txt\", 128, 32, 1.0)\n",
    "r = surface.get_r()\n",
    "x = r[:,:,0]\n",
    "y = r[:,:,1]\n",
    "z = r[:,:,2]\n",
    "s = mlab.mesh(x,y,z,color=(0.8,0.0,0.0))\n",
    "coil_data, params = CoilSet.get_initial_data(surface,input_file=\"validate_rotating_ellipse.hdf5\")\n",
    "_, _, r, _, _ = CoilSet.get_outputs(coil_data, True, params)"
   ]
  },
  {
   "cell_type": "markdown",
   "metadata": {},
   "source": [
    "Let's take a look at what FOCUSADD's coils look like. "
   ]
  },
  {
   "cell_type": "code",
   "execution_count": null,
   "metadata": {
    "scrolled": false
   },
   "outputs": [],
   "source": [
    "\n",
    "for ic in range(r.shape[0]):\n",
    "    for n in range(r.shape[2]):\n",
    "        for b in range(r.shape[3]):\n",
    "            p = mlab.plot3d(r[ic,:,n,b,0],r[ic,:,n,b,1],r[ic,:,n,b,2],tube_radius=0.004, line_width = 0.01, color=(0.0,0.0,0.8))\n",
    "p"
   ]
  },
  {
   "cell_type": "markdown",
   "metadata": {},
   "source": [
    "Now let's overlay the FOCUSAD (FORTRAN) coils. First, we need to read in the data from coils.out.txt"
   ]
  },
  {
   "cell_type": "code",
   "execution_count": null,
   "metadata": {},
   "outputs": [],
   "source": [
    "with open(\"coils.out.txt\", 'r') as f:\n",
    "    _ = f.readline() #1\n",
    "    NC, NF = f.readline().split(\" \")\n",
    "    NC = int(NC)\n",
    "    NF = int(NF)\n",
    "    _ = f.readline()\n",
    "    NN, NB, NFR = f.readline().split(\" \") #4\n",
    "    NN = int(NN)\n",
    "    NB = int(NB)\n",
    "    NFR = int(NFR)\n",
    "    _ = f.readline()\n",
    "    _ = f.readline() #6\n",
    "    fc = np.zeros((6,NC,NF+1))\n",
    "    fr = np.zeros((2,NC,NFR))\n",
    "    for c in range(NC):\n",
    "        _ = f.readline() #coilnumber\n",
    "        _ = f.readline() \n",
    "        _ = f.readline() #NR\n",
    "        _ = f.readline() \n",
    "        _ = f.readline()\n",
    "        xc = np.asarray([float(txt) for txt in f.readline().split(\" \") if txt != ''])\n",
    "        _ = f.readline()\n",
    "        xs = np.asarray([float(txt) for txt in f.readline().split(\" \") if txt != ''])\n",
    "        _ = f.readline()\n",
    "        yc = np.asarray([float(txt) for txt in f.readline().split(\" \") if txt != ''])\n",
    "        _ = f.readline()\n",
    "        ys = np.asarray([float(txt) for txt in f.readline().split(\" \") if txt != ''])\n",
    "        _ = f.readline()\n",
    "        zc = np.asarray([float(txt) for txt in f.readline().split(\" \") if txt != ''])\n",
    "        _ = f.readline()\n",
    "        zs = np.asarray([float(txt) for txt in f.readline().split(\" \") if txt != ''])\n",
    "        _ = f.readline()\n",
    "        _ = f.readline() \n",
    "        _ = f.readline()\n",
    "        _ = f.readline()\n",
    "        fc[:,c,:] = np.concatenate((xc[np.newaxis],yc[np.newaxis],zc[np.newaxis],xs[np.newaxis],ys[np.newaxis],zs[np.newaxis]),axis=0)"
   ]
  },
  {
   "cell_type": "code",
   "execution_count": null,
   "metadata": {},
   "outputs": [],
   "source": [
    "params = (fc, fr)\n",
    "_, _, r, _, _ = CoilSet.get_outputs(coil_data, True, params)"
   ]
  },
  {
   "cell_type": "code",
   "execution_count": null,
   "metadata": {
    "scrolled": false
   },
   "outputs": [],
   "source": [
    "for ic in range(r.shape[0]):\n",
    "    for n in range(r.shape[2]):\n",
    "        for b in range(r.shape[3]):\n",
    "            p = mlab.plot3d(r[ic,:,n,b,0],r[ic,:,n,b,1],r[ic,:,n,b,2],tube_radius=0.004, line_width = 0.01, color=(0.0,0.8,0.0))\n",
    "p"
   ]
  },
  {
   "cell_type": "markdown",
   "metadata": {},
   "source": []
  },
  {
   "cell_type": "markdown",
   "metadata": {},
   "source": [
    "Let's see what the loss function for the green coils is. \n",
    "\n",
    "Wait! I'm using a different loss function. Since I'm dividing by B^2. So can't really compare. "
   ]
  },
  {
   "cell_type": "code",
   "execution_count": null,
   "metadata": {},
   "outputs": [],
   "source": []
  }
 ],
 "metadata": {
  "kernelspec": {
   "display_name": "Python 3",
   "language": "python",
   "name": "python3"
  },
  "language_info": {
   "codemirror_mode": {
    "name": "ipython",
    "version": 3
   },
   "file_extension": ".py",
   "mimetype": "text/x-python",
   "name": "python",
   "nbconvert_exporter": "python",
   "pygments_lexer": "ipython3",
   "version": "3.7.7"
  }
 },
 "nbformat": 4,
 "nbformat_minor": 2
}
