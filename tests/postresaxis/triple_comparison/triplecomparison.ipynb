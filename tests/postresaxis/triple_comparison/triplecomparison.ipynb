{
 "cells": [
  {
   "cell_type": "code",
   "execution_count": null,
   "metadata": {},
   "outputs": [],
   "source": [
    "import sys\n",
    "sys.path.append(\"../../../\")\n",
    "import csv\n",
    "import matplotlib.pyplot as plt\n",
    "import numpy as np\n",
    "import focusadd\n",
    "from focusadd.surface.Surface import Surface\n",
    "from focusadd.coils.CoilSet import CoilSet\n",
    "from focusadd.lossFunctions.DefaultLoss import default_loss\n",
    "import numpy as np\n",
    "import mayavi as maya\n",
    "from mayavi import mlab\n",
    "from functools import partial\n",
    "mlab.init_notebook('x3d',800,800)"
   ]
  },
  {
   "cell_type": "code",
   "execution_count": null,
   "metadata": {
    "scrolled": true
   },
   "outputs": [],
   "source": [
    "surface = Surface(\"../../../focusadd/initFiles/axes/ellipticalAxis4Rotate.txt\", 128, 32, 1.0)\n",
    "coil_data_fil, params_fil = CoilSet.get_initial_data(surface, input_file=\"filament.hdf5\")\n",
    "_, _, r_fil, l_fil = CoilSet.get_outputs(coil_data_fil, params_fil)\n",
    "r_centroid_fil = CoilSet.get_r_centroid(coil_data_fil, params_fil)"
   ]
  },
  {
   "cell_type": "code",
   "execution_count": null,
   "metadata": {
    "scrolled": true
   },
   "outputs": [],
   "source": [
    "def draw_coils(r_coils, color = \"blue\"):\n",
    "    if color.lower() == \"blue\":\n",
    "        tup = (0.0, 0.0, 0.8)\n",
    "    elif color.lower() == \"red\":\n",
    "        tup = (0.8, 0.0, 0.0)\n",
    "    elif color.lower() == \"pink\":\n",
    "        tup = (1.0, 0.75, 0.8)\n",
    "    else:\n",
    "        tup = (0.0, 0.8, 0.0)\n",
    "    for ic in range(r_coils.shape[0]):\n",
    "        for n in range(r_coils.shape[2]):\n",
    "            for b in range(r_coils.shape[3]):\n",
    "                p = mlab.plot3d(r_coils[ic,:,n,b,0], r_coils[ic,:,n,b,1], r_coils[ic,:,n,b,2], tube_radius = 0.004, line_width = 0.01, color = tup)\n",
    "    return p\n",
    "\n",
    "def draw_centroid(r_centroid, color=\"blue\"):\n",
    "    if color.lower() == \"blue\":\n",
    "        tup = (0.0, 0.0, 0.8)\n",
    "    elif color.lower() == \"red\":\n",
    "        tup = (0.8, 0.0, 0.0)\n",
    "    elif color.lower() == \"pink\":\n",
    "        tup = (1.0, 0.75, 0.8)\n",
    "    else:\n",
    "        tup = (0.0, 0.8, 0.0)\n",
    "    for ic in range(r_centroid.shape[0]):\n",
    "        p = mlab.plot3d(r_centroid[ic,:,0], r_centroid[ic,:,1], r_centroid[ic,:,2], tube_radius = 0.004, line_width = 0.01, color = tup)\n",
    "    return p\n",
    "\n",
    "def draw_surface(surface):\n",
    "    r = surface.get_r()\n",
    "    x = r[:,:,0]\n",
    "    y = r[:,:,1]\n",
    "    z = r[:,:,2]\n",
    "    p = mlab.mesh(x,y,z,color=(0.8,0.0,0.0))\n",
    "    return p\n",
    "\n",
    "mlab.clf()\n",
    "draw_surface(Surface(\"../../../focusadd/initFiles/axes/ellipticalAxis4Rotate.txt\", 128, 32, 1.0))\n",
    "draw_coils(r_fil)"
   ]
  },
  {
   "cell_type": "code",
   "execution_count": null,
   "metadata": {},
   "outputs": [],
   "source": [
    "coil_data_fb, params_fb = CoilSet.get_initial_data(surface, input_file=\"fb.hdf5\")\n",
    "_, _, r_fb, l_fb = CoilSet.get_outputs(coil_data_fb, params_fb)\n",
    "r_centroid_fb = CoilSet.get_r_centroid(coil_data_fb, params_fb)"
   ]
  },
  {
   "cell_type": "code",
   "execution_count": null,
   "metadata": {},
   "outputs": [],
   "source": [
    "mlab.clf()\n",
    "draw_surface(Surface(\"../../../focusadd/initFiles/axes/ellipticalAxis4Rotate.txt\", 128, 32, 1.0))\n",
    "draw_coils(r_fb)"
   ]
  },
  {
   "cell_type": "code",
   "execution_count": null,
   "metadata": {},
   "outputs": [],
   "source": [
    "coil_data_rot, params_rot = CoilSet.get_initial_data(surface, input_file=\"fb_rot.hdf5\")\n",
    "_, _, r_rot, l_rot = CoilSet.get_outputs(coil_data_rot, params_rot)\n",
    "r_centroid_rot = CoilSet.get_r_centroid(coil_data_rot, params_rot)"
   ]
  },
  {
   "cell_type": "code",
   "execution_count": null,
   "metadata": {},
   "outputs": [],
   "source": [
    "mlab.clf()\n",
    "draw_surface(Surface(\"../../../focusadd/initFiles/axes/ellipticalAxis4Rotate.txt\", 128, 32, 1.0))\n",
    "draw_coils(r_rot)"
   ]
  },
  {
   "cell_type": "code",
   "execution_count": null,
   "metadata": {},
   "outputs": [],
   "source": [
    "coil_data_sk, params_sk = CoilSet.get_initial_data(surface, input_file=\"skinnycoils.hdf5\")\n",
    "_, _, r_sk, l_sk = CoilSet.get_outputs(coil_data_sk, params_sk)\n",
    "r_centroid_sk = CoilSet.get_r_centroid(coil_data_sk, params_sk)"
   ]
  },
  {
   "cell_type": "code",
   "execution_count": null,
   "metadata": {},
   "outputs": [],
   "source": [
    "mlab.clf()\n",
    "draw_surface(Surface(\"../../../focusadd/initFiles/axes/ellipticalAxis4Rotate.txt\", 128, 32, 1.0))\n",
    "draw_coils(r_sk)"
   ]
  },
  {
   "cell_type": "code",
   "execution_count": null,
   "metadata": {},
   "outputs": [],
   "source": [
    "mlab.clf()\n",
    "draw_surface(Surface(\"../../../focusadd/initFiles/axes/ellipticalAxis4Rotate.txt\", 128, 32, 1.0))\n",
    "draw_coils(r_rot, color=\"blue\")\n",
    "draw_coils(r_fb, color=\"green\")"
   ]
  },
  {
   "cell_type": "code",
   "execution_count": null,
   "metadata": {},
   "outputs": [],
   "source": []
  },
  {
   "cell_type": "code",
   "execution_count": null,
   "metadata": {},
   "outputs": [],
   "source": [
    "mlab.clf()\n",
    "draw_centroid(r_centroid_fil, color=\"red\")\n",
    "draw_centroid(r_centroid_fb, color=\"blue\")\n",
    "draw_centroid(r_centroid_rot, color=\"green\")\n",
    "draw_centroid(r_centroid_sk, color=\"pink\")"
   ]
  },
  {
   "cell_type": "code",
   "execution_count": null,
   "metadata": {},
   "outputs": [],
   "source": [
    "def compute_f_B(NZ, NT, NS):\n",
    "    surface = Surface(\"../../../focusadd/initFiles/axes/ellipticalAxis4Rotate.txt\", NZ, NT, 1.0)\n",
    "    w_L = 0.1\n",
    "    w_B = 1e3\n",
    "    w_args = (w_B, w_L)\n",
    "    coil_data_fil, params_fil = CoilSet.get_initial_data(surface, input_file=\"filament.hdf5\")\n",
    "    NC, _, NF, NFR, ln, lb, NNR, NBR, rc, NR = coil_data_fil\n",
    "    coil_data_fil = NC, NS, NF, NFR, ln, lb, NNR, NBR, rc, NR\n",
    "    _, _, r_fil, l_fil = CoilSet.get_outputs(coil_data_fil, params_fil)\n",
    "    r_centroid_fil = CoilSet.get_r_centroid(coil_data_fil, params_fil)\n",
    "    surface_data = (surface.get_r_central(), surface.get_nn(), surface.get_sg())\n",
    "    coil_output_func_fil = partial(CoilSet.get_outputs, coil_data_fil)\n",
    "    loss_fil = default_loss(surface_data, coil_output_func_fil, w_args, params_fil)\n",
    "    f_B = loss_fil - w_L * l_fil\n",
    "    return f_B"
   ]
  },
  {
   "cell_type": "code",
   "execution_count": null,
   "metadata": {},
   "outputs": [],
   "source": [
    "NT = 16\n",
    "NS = 64\n",
    "NZs = [16, 32, 64, 96, 128, 192, 256, 512, 1024, 2048]\n",
    "f_Bs_NZ = []\n",
    "for NZ in NZs:\n",
    "    f_B = compute_f_B(NZ, NT, NS)\n",
    "    f_Bs_NZ.append(f_B)"
   ]
  },
  {
   "cell_type": "code",
   "execution_count": null,
   "metadata": {},
   "outputs": [],
   "source": [
    "f_B = compute_f_B(4096, NT, NS)\n",
    "f_Bs_NZ.append(f_B)\n",
    "NZs.append(4096)"
   ]
  },
  {
   "cell_type": "code",
   "execution_count": null,
   "metadata": {},
   "outputs": [],
   "source": [
    "print(float((f_Bs_NZ[-1] - f_Bs_NZ[4]) / f_Bs_NZ[4]) * 100)\n",
    "plt.plot(NZs, f_Bs_NZ)\n",
    "#plt.ylim([0.0884,0.0887])\n",
    "plt.title(\"Quadratic flux vs num_zeta on surface\")\n",
    "plt.show()"
   ]
  },
  {
   "cell_type": "code",
   "execution_count": null,
   "metadata": {},
   "outputs": [],
   "source": [
    "NTs = [8, 16, 32, 64, 128, 256, 512]\n",
    "NS = 64\n",
    "NZ = 128\n",
    "f_Bs_NT = []\n",
    "for NT in NTs:\n",
    "    f_B = compute_f_B(NZ, NT, NS)\n",
    "    f_Bs_NT.append(f_B)"
   ]
  },
  {
   "cell_type": "code",
   "execution_count": null,
   "metadata": {},
   "outputs": [],
   "source": [
    "print(float((f_Bs_NT[-1] - f_Bs_NT[1]) / f_Bs_NT[1]) * 100)\n",
    "plt.plot(NTs, f_Bs_NT)\n",
    "#plt.ylim([0.08856,0.08857])\n",
    "plt.title(\"Quadratic flux vs num_theta on surface\")\n",
    "plt.show()"
   ]
  },
  {
   "cell_type": "code",
   "execution_count": null,
   "metadata": {},
   "outputs": [],
   "source": [
    "NT = 16\n",
    "NSs = [16, 32, 64, 96, 128, 256, 512]\n",
    "NZ = 128\n",
    "f_Bs_NS = []\n",
    "for NS in NSs:\n",
    "    f_B = compute_f_B(NZ, NT, NS)\n",
    "    f_Bs_NS.append(f_B)"
   ]
  },
  {
   "cell_type": "code",
   "execution_count": null,
   "metadata": {},
   "outputs": [],
   "source": [
    "float((f_Bs_NS[-1] - f_Bs_NS[2]) / f_Bs_NS[2]) * 100"
   ]
  },
  {
   "cell_type": "code",
   "execution_count": null,
   "metadata": {},
   "outputs": [],
   "source": [
    "plt.plot(NSs, f_Bs_NS)\n",
    "#plt.ylim([0.08775,0.0888])\n",
    "plt.title(\"Quadratic flux vs num_segments in coils\")\n",
    "plt.show()"
   ]
  },
  {
   "cell_type": "code",
   "execution_count": null,
   "metadata": {},
   "outputs": [],
   "source": [
    "def plot_surface(r):\n",
    "    x = r[:,:,0]\n",
    "    y = r[:,:,1]\n",
    "    z = r[:,:,2]\n",
    "    p = mlab.mesh(x,y,z,color=(0.8,0.0,0.0))\n",
    "    return p\n",
    "mlab.clf()\n",
    "p = plot_surface(surface.get_r_central()[0:40,:])\n",
    "#r_c = compute_r_centroid(NS, fc_init)\n",
    "#p = plot_coils(r_fil, color=(0.8,0.0,0.0))\n",
    "p = draw_coils(r_fb[2:4])\n",
    "p = draw_coils(r_rot[4:6],color=\"green\")"
   ]
  },
  {
   "cell_type": "code",
   "execution_count": null,
   "metadata": {
    "scrolled": false
   },
   "outputs": [],
   "source": [
    "mlab.view(azimuth=270, elevation=90, distance=2.7, focalpoint=(0.45,0.7,0.0), roll=None, reset_roll=True)\n",
    "p"
   ]
  },
  {
   "cell_type": "code",
   "execution_count": null,
   "metadata": {},
   "outputs": [],
   "source": [
    "print(r_rot[4])"
   ]
  },
  {
   "cell_type": "code",
   "execution_count": null,
   "metadata": {},
   "outputs": [],
   "source": []
  }
 ],
 "metadata": {
  "kernelspec": {
   "display_name": "Python 3",
   "language": "python",
   "name": "python3"
  },
  "language_info": {
   "codemirror_mode": {
    "name": "ipython",
    "version": 3
   },
   "file_extension": ".py",
   "mimetype": "text/x-python",
   "name": "python",
   "nbconvert_exporter": "python",
   "pygments_lexer": "ipython3",
   "version": "3.7.7"
  }
 },
 "nbformat": 4,
 "nbformat_minor": 4
}
