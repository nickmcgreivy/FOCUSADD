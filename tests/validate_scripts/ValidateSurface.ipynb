{
 "cells": [
  {
   "cell_type": "markdown",
   "metadata": {},
   "source": [
    "# Validating the Surface Class\n",
    "\n",
    "In this file we attempt to convince ourselves that the class Surface is doing what we think it is doing. \n",
    "\n",
    "# Test 1: Circular axis, circular cross-section\n",
    "\n",
    "Let's start by plotting this surface."
   ]
  },
  {
   "cell_type": "code",
   "execution_count": null,
   "metadata": {},
   "outputs": [],
   "source": [
    "import sys\n",
    "sys.path.append(\"..\")\n",
    "import numpy as np\n",
    "import focusadd\n",
    "from focusadd.surface.Surface import Surface"
   ]
  },
  {
   "cell_type": "code",
   "execution_count": null,
   "metadata": {},
   "outputs": [],
   "source": [
    "import numpy as np\n",
    "import mayavi as maya\n",
    "from mayavi import mlab\n",
    "mlab.init_notebook()"
   ]
  },
  {
   "cell_type": "code",
   "execution_count": null,
   "metadata": {},
   "outputs": [],
   "source": [
    "mlab.clf()\n",
    "surface = Surface(\"../focusadd/initFiles/axes/circularAxis.txt\", 64, 32, 1.0)\n",
    "r = surface.get_r()\n",
    "x = r[:,:,0]\n",
    "y = r[:,:,1]\n",
    "z = r[:,:,2]\n",
    "s = mlab.mesh(x,y,z,colormap=\"bone\")"
   ]
  },
  {
   "cell_type": "code",
   "execution_count": null,
   "metadata": {},
   "outputs": [],
   "source": [
    "s"
   ]
  },
  {
   "cell_type": "markdown",
   "metadata": {},
   "source": [
    "Now let's plot the normal vector on this surface."
   ]
  },
  {
   "cell_type": "code",
   "execution_count": null,
   "metadata": {},
   "outputs": [],
   "source": [
    "nn = surface.get_nn()\n",
    "r_central = surface.get_r_central()\n",
    "x2 = r_central[:,:,0]\n",
    "y2 = r_central[:,:,1]\n",
    "z2 = r_central[:,:,2]\n",
    "nn_x = nn[:,:,0]\n",
    "nn_y = nn[:,:,1]\n",
    "nn_z = nn[:,:,2]\n",
    "n = mlab.quiver3d(x2[::,::],y2[::,::],z2[::,::],nn_x[::,::],nn_y[::,::],nn_z[::,::])"
   ]
  },
  {
   "cell_type": "code",
   "execution_count": null,
   "metadata": {},
   "outputs": [],
   "source": [
    "n"
   ]
  },
  {
   "cell_type": "markdown",
   "metadata": {},
   "source": [
    "Seems right. Now let's plot the surface normals in proportion to their surface area. We should see that the outer part of the torus has larger surface area than the inner portion. "
   ]
  },
  {
   "cell_type": "code",
   "execution_count": null,
   "metadata": {},
   "outputs": [],
   "source": [
    "mlab.clf()\n",
    "s = mlab.mesh(x,y,z,colormap=\"bone\")\n",
    "nn = surface.get_nn()\n",
    "nnA = nn * surface.get_sg()[:,:,np.newaxis]\n",
    "nn_x2 = nnA[:,:,0]\n",
    "nn_y2 = nnA[:,:,1]\n",
    "nn_z2 = nnA[:,:,2]\n",
    "s = mlab.quiver3d(x2[::,::],y2[::,::],z2[::,::],nn_x2[::,::],nn_y2[::,::],nn_z2[::,::])"
   ]
  },
  {
   "cell_type": "code",
   "execution_count": null,
   "metadata": {},
   "outputs": [],
   "source": [
    "s"
   ]
  },
  {
   "cell_type": "markdown",
   "metadata": {},
   "source": [
    "# Test 2: Default axis, circular cross-section \n",
    "\n",
    "Let's perform the same checks on the default axis. "
   ]
  },
  {
   "cell_type": "code",
   "execution_count": null,
   "metadata": {
    "scrolled": false
   },
   "outputs": [],
   "source": [
    "mlab.clf()\n",
    "surface = Surface(\"../focusadd/initFiles/axes/defaultAxis.txt\", 64, 32, 1.0)\n",
    "r = surface.get_r()\n",
    "x = r[:,:,0]\n",
    "y = r[:,:,1]\n",
    "z = r[:,:,2]\n",
    "s = mlab.mesh(x,y,z,colormap=\"bone\")\n",
    "s"
   ]
  },
  {
   "cell_type": "code",
   "execution_count": null,
   "metadata": {},
   "outputs": [],
   "source": [
    "nn = surface.get_nn()\n",
    "r_central = surface.get_r_central()\n",
    "x2 = r_central[:,:,0]\n",
    "y2 = r_central[:,:,1]\n",
    "z2 = r_central[:,:,2]\n",
    "nn_x = nn[:,:,0]\n",
    "nn_y = nn[:,:,1]\n",
    "nn_z = nn[:,:,2]\n",
    "n = mlab.quiver3d(x2[::,::],y2[::,::],z2[::,::],nn_x[::,::],nn_y[::,::],nn_z[::,::])\n",
    "n"
   ]
  },
  {
   "cell_type": "code",
   "execution_count": null,
   "metadata": {},
   "outputs": [],
   "source": [
    "mlab.clf()\n",
    "s = mlab.mesh(x,y,z,colormap=\"bone\")\n",
    "nn = surface.get_nn()\n",
    "nnA = nn * surface.get_sg()[:,:,np.newaxis]\n",
    "nn_x2 = nnA[:,:,0]\n",
    "nn_y2 = nnA[:,:,1]\n",
    "nn_z2 = nnA[:,:,2]\n",
    "s = mlab.quiver3d(x2[::,::],y2[::,::],z2[::,::],nn_x2[::,::],nn_y2[::,::],nn_z2[::,::])\n",
    "s"
   ]
  },
  {
   "cell_type": "markdown",
   "metadata": {},
   "source": [
    "# Test 3: Non-Rotating Ellipse"
   ]
  },
  {
   "cell_type": "code",
   "execution_count": null,
   "metadata": {},
   "outputs": [],
   "source": [
    "mlab.clf()\n",
    "surface = Surface(\"../focusadd/initFiles/axes/ellipticalAxisNoRotate.txt\", 64, 32, 1.0)\n",
    "r = surface.get_r()\n",
    "x = r[:,:,0]\n",
    "y = r[:,:,1]\n",
    "z = r[:,:,2]\n",
    "s = mlab.mesh(x,y,z,colormap=\"bone\")\n",
    "s"
   ]
  },
  {
   "cell_type": "code",
   "execution_count": null,
   "metadata": {},
   "outputs": [],
   "source": [
    "nn = surface.get_nn()\n",
    "r_central = surface.get_r_central()\n",
    "x2 = r_central[:,:,0]\n",
    "y2 = r_central[:,:,1]\n",
    "z2 = r_central[:,:,2]\n",
    "nn_x = nn[:,:,0]\n",
    "nn_y = nn[:,:,1]\n",
    "nn_z = nn[:,:,2]\n",
    "n = mlab.quiver3d(x2[::,::],y2[::,::],z2[::,::],nn_x[::,::],nn_y[::,::],nn_z[::,::])\n",
    "n"
   ]
  },
  {
   "cell_type": "code",
   "execution_count": null,
   "metadata": {},
   "outputs": [],
   "source": [
    "mlab.clf()\n",
    "s = mlab.mesh(x,y,z,colormap=\"bone\")\n",
    "nn = surface.get_nn()\n",
    "nnA = nn * surface.get_sg()[:,:,np.newaxis]\n",
    "nn_x2 = nnA[:,:,0]\n",
    "nn_y2 = nnA[:,:,1]\n",
    "nn_z2 = nnA[:,:,2]\n",
    "s = mlab.quiver3d(x2[::,::],y2[::,::],z2[::,::],nn_x2[::,::],nn_y2[::,::],nn_z2[::,::])\n",
    "s"
   ]
  },
  {
   "cell_type": "markdown",
   "metadata": {},
   "source": [
    "# Test 4: Rotating Ellipse"
   ]
  },
  {
   "cell_type": "code",
   "execution_count": null,
   "metadata": {},
   "outputs": [],
   "source": [
    "mlab.clf()\n",
    "surface = Surface(\"../focusadd/initFiles/axes/ellipticalAxis5Rotate.txt\", 64, 32, 1.0)\n",
    "r = surface.get_r()\n",
    "x = r[:,:,0]\n",
    "y = r[:,:,1]\n",
    "z = r[:,:,2]\n",
    "s = mlab.mesh(x,y,z,colormap=\"bone\")\n",
    "s"
   ]
  },
  {
   "cell_type": "code",
   "execution_count": null,
   "metadata": {},
   "outputs": [],
   "source": [
    "nn = surface.get_nn()\n",
    "r_central = surface.get_r_central()\n",
    "x2 = r_central[:,:,0]\n",
    "y2 = r_central[:,:,1]\n",
    "z2 = r_central[:,:,2]\n",
    "nn_x = nn[:,:,0]\n",
    "nn_y = nn[:,:,1]\n",
    "nn_z = nn[:,:,2]\n",
    "n = mlab.quiver3d(x2[::,::],y2[::,::],z2[::,::],nn_x[::,::],nn_y[::,::],nn_z[::,::])\n",
    "n"
   ]
  },
  {
   "cell_type": "code",
   "execution_count": null,
   "metadata": {},
   "outputs": [],
   "source": [
    "mlab.clf()\n",
    "s = mlab.mesh(x,y,z,colormap=\"bone\")\n",
    "nn = surface.get_nn()\n",
    "nnA = nn * surface.get_sg()[:,:,np.newaxis]\n",
    "nn_x2 = nnA[:,:,0]\n",
    "nn_y2 = nnA[:,:,1]\n",
    "nn_z2 = nnA[:,:,2]\n",
    "s = mlab.quiver3d(x2[::,::],y2[::,::],z2[::,::],nn_x2[::,::],nn_y2[::,::],nn_z2[::,::])\n",
    "s"
   ]
  },
  {
   "cell_type": "markdown",
   "metadata": {},
   "source": [
    "I find these surface normals pretty convincing that the surface class is doing what I think it is. \n",
    "\n",
    "The one function which hasn't been debugged is the calc_r_coils function, but this will be tested when we initialize coils. "
   ]
  },
  {
   "cell_type": "markdown",
   "metadata": {},
   "source": [
    "# Test 5: Surface Area Magnitude "
   ]
  },
  {
   "cell_type": "markdown",
   "metadata": {},
   "source": [
    "For a circular axis with radius 1, circular cross-section with minor radius 0.1, we should see a total surface area of approximately 2pi(1) * 2pi(.1) = 0.4 pi**2"
   ]
  },
  {
   "cell_type": "code",
   "execution_count": null,
   "metadata": {},
   "outputs": [],
   "source": [
    "mlab.clf()\n",
    "surface = Surface(\"../focusadd/initFiles/axes/circularAxis.txt\", 64, 32, 1.0)\n",
    "sg = surface.get_sg()\n",
    "A = np.sum(sg)\n",
    "print(A)\n",
    "print(.4 * 3.141**2)"
   ]
  },
  {
   "cell_type": "markdown",
   "metadata": {},
   "source": [
    "Good."
   ]
  },
  {
   "cell_type": "code",
   "execution_count": null,
   "metadata": {},
   "outputs": [],
   "source": []
  }
 ],
 "metadata": {
  "kernelspec": {
   "display_name": "Python 3",
   "language": "python",
   "name": "python3"
  },
  "language_info": {
   "codemirror_mode": {
    "name": "ipython",
    "version": 3
   },
   "file_extension": ".py",
   "mimetype": "text/x-python",
   "name": "python",
   "nbconvert_exporter": "python",
   "pygments_lexer": "ipython3",
   "version": "3.7.4"
  }
 },
 "nbformat": 4,
 "nbformat_minor": 2
}
