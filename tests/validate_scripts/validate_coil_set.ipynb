{
 "cells": [
  {
   "cell_type": "code",
   "execution_count": null,
   "metadata": {},
   "outputs": [],
   "source": [
    "import sys\n",
    "sys.path.append(\"../..\")\n",
    "import numpy as np\n",
    "import focusadd\n",
    "from focusadd.surface.Surface import Surface\n",
    "from focusadd.coils.CoilSet import CoilSet\n",
    "import numpy as np\n",
    "import mayavi as maya\n",
    "from mayavi import mlab\n",
    "from jax.ops import index, index_update\n",
    "mlab.init_notebook('x3d',800,800)"
   ]
  },
  {
   "cell_type": "markdown",
   "metadata": {},
   "source": [
    "# Validate CoilSet.Py \n",
    "\n",
    "# Test 1: Coil Initialization\n",
    "\n",
    "Let's test the coil initialization. There are two ways of initializing coils, either from a preformatted args_dict dictionary or from an existing .hdf5 file which stores the coil data and metadata. Let's make sure we can do this successfully. "
   ]
  },
  {
   "cell_type": "markdown",
   "metadata": {},
   "source": [
    "Let's start by looking at a basic circular axis and circular cross section, and making sure we can properly initialize the coils around this axis. Then we'll make sure we can write these to an .hdf5 file, then read them in again."
   ]
  },
  {
   "cell_type": "code",
   "execution_count": null,
   "metadata": {},
   "outputs": [],
   "source": [
    "mlab.clf()\n",
    "surface = Surface(\"../focusadd/initFiles/axes/circularAxis.txt\", 64, 32, 1.0)\n",
    "r = surface.get_r()\n",
    "x = r[:,:,0]\n",
    "y = r[:,:,1]\n",
    "z = r[:,:,2]\n",
    "s = mlab.mesh(x,y,z,color=(0.8,0.0,0.0))\n",
    "NC = 8\n",
    "NS = 32\n",
    "NF = 4\n",
    "NFR = 8\n",
    "ln = 0.02\n",
    "lb = 0.02\n",
    "NNR = 2\n",
    "NBR = 2\n",
    "rc = 2.0\n",
    "NR = 0\n",
    "args_dict = {}\n",
    "args_dict['numCoils'] = NC\n",
    "args_dict['numSegments'] = NS\n",
    "args_dict['numFourierCoils'] = NF\n",
    "args_dict['numFourierRotate'] = NFR\n",
    "args_dict['lengthNormal'] = ln\n",
    "args_dict['lengthBinormal'] = lb\n",
    "args_dict['numNormalRotate'] = NNR\n",
    "args_dict['numBinormalRotate'] = NBR\n",
    "args_dict['radiusCoil'] = rc\n",
    "args_dict['numRotate'] = NR\n",
    "#coil_data = NC, NS, NF, NFR, ln, lb, NNR, NBR, rc, NR\n",
    "coil_data, params = CoilSet.get_initial_data(surface, args_dict = args_dict)\n",
    "_, _, r, _, _ = CoilSet.get_outputs(coil_data, True, params)\n"
   ]
  },
  {
   "cell_type": "code",
   "execution_count": null,
   "metadata": {},
   "outputs": [],
   "source": [
    "for ic in range(r.shape[0]):\n",
    "    for n in range(r.shape[2]):\n",
    "        for b in range(r.shape[3]):\n",
    "            p = mlab.plot3d(r[ic,:,n,b,0],r[ic,:,n,b,1],r[ic,:,n,b,2],tube_radius=0.004, line_width = 0.01, color=(0.0,0.0,0.8))"
   ]
  },
  {
   "cell_type": "code",
   "execution_count": null,
   "metadata": {
    "scrolled": false
   },
   "outputs": [],
   "source": [
    "p"
   ]
  },
  {
   "cell_type": "markdown",
   "metadata": {},
   "source": [
    "It should work for any number of coils. "
   ]
  },
  {
   "cell_type": "code",
   "execution_count": null,
   "metadata": {},
   "outputs": [],
   "source": [
    "mlab.clf()\n",
    "p = mlab.mesh(x,y,z,color=(0.8,0.0,0.0))\n",
    "args_dict['numCoils'] = 13\n",
    "coil_data, params = CoilSet.get_initial_data(surface, args_dict = args_dict)\n",
    "_, _, r, _, _ = CoilSet.get_outputs(coil_data, True, params)\n",
    "for ic in range(r.shape[0]):\n",
    "    for n in range(r.shape[2]):\n",
    "        for b in range(r.shape[3]):\n",
    "            p = mlab.plot3d(r[ic,:,n,b,0],r[ic,:,n,b,1],r[ic,:,n,b,2],tube_radius=0.004, line_width = 0.01, color=(0.0,0.0,0.8))"
   ]
  },
  {
   "cell_type": "code",
   "execution_count": null,
   "metadata": {},
   "outputs": [],
   "source": [
    "p"
   ]
  },
  {
   "cell_type": "markdown",
   "metadata": {},
   "source": [
    "13 coils, evenly spaced. Great. \n",
    "\n",
    "The next step is to store this as an hdf5 file, then read it back in and get the same coils. Let's do that and make sure it works. "
   ]
  },
  {
   "cell_type": "code",
   "execution_count": null,
   "metadata": {},
   "outputs": [],
   "source": [
    "CoilSet.write(coil_data, params, \"13coilsTest.hdf5\")"
   ]
  },
  {
   "cell_type": "code",
   "execution_count": null,
   "metadata": {},
   "outputs": [],
   "source": [
    "coil_data, params = CoilSet.get_initial_data(surface, input_file = \"13coilsTest.hdf5\")\n",
    "_, _, r, _, _ = CoilSet.get_outputs(coil_data, True, params)"
   ]
  },
  {
   "cell_type": "code",
   "execution_count": null,
   "metadata": {},
   "outputs": [],
   "source": [
    "mlab.clf()\n",
    "p = mlab.mesh(x,y,z,color=(0.8,0.0,0.0))\n",
    "for ic in range(r.shape[0]):\n",
    "    for n in range(r.shape[2]):\n",
    "        for b in range(r.shape[3]):\n",
    "            p = mlab.plot3d(r[ic,:,n,b,0],r[ic,:,n,b,1],r[ic,:,n,b,2],tube_radius=0.004, line_width = 0.01, color=(0.0,0.0,0.8))"
   ]
  },
  {
   "cell_type": "code",
   "execution_count": null,
   "metadata": {},
   "outputs": [],
   "source": [
    "p"
   ]
  },
  {
   "cell_type": "markdown",
   "metadata": {},
   "source": [
    "coilSet13 looks good. So writing and reading from hdf5 files gives us the same coils. \n",
    "\n",
    "Now let's see if we properly initialize our coils around an elliptical axis. "
   ]
  },
  {
   "cell_type": "code",
   "execution_count": null,
   "metadata": {},
   "outputs": [],
   "source": [
    "mlab.clf()\n",
    "surface = Surface(\"../focusadd/initFiles/axes/ellipticalAxis5Rotate.txt\", 64, 32, 1.0)\n",
    "r = surface.get_r()\n",
    "x = r[:,:,0]\n",
    "y = r[:,:,1]\n",
    "z = r[:,:,2]\n",
    "p = mlab.mesh(x,y,z,color=(0.8,0.0,0.0))\n",
    "args_dict = {}\n",
    "args_dict['numCoils'] = 8\n",
    "args_dict['numSegments'] = 32\n",
    "args_dict['numFourierCoils'] = 4\n",
    "args_dict['numFourierRotate'] = 4\n",
    "args_dict['lengthNormal'] = 0.02\n",
    "args_dict['lengthBinormal'] = 0.02\n",
    "args_dict['numNormalRotate'] = 2\n",
    "args_dict['numBinormalRotate'] = 2\n",
    "args_dict['radiusCoil'] = 2.0\n",
    "args_dict['numRotate'] = 0\n",
    "coil_data, params = CoilSet.get_initial_data(surface, args_dict = args_dict)\n",
    "_, _, r, _, _ = CoilSet.get_outputs(coil_data, True, params)"
   ]
  },
  {
   "cell_type": "code",
   "execution_count": null,
   "metadata": {},
   "outputs": [],
   "source": [
    "for ic in range(r.shape[0]):\n",
    "    for n in range(r.shape[2]):\n",
    "        for b in range(r.shape[3]):\n",
    "            p = mlab.plot3d(r[ic,:,n,b,0],r[ic,:,n,b,1],r[ic,:,n,b,2],tube_radius=0.004, line_width = 0.01, color=(0.0,0.0,0.8))"
   ]
  },
  {
   "cell_type": "code",
   "execution_count": null,
   "metadata": {},
   "outputs": [],
   "source": [
    "p"
   ]
  },
  {
   "cell_type": "markdown",
   "metadata": {},
   "source": [
    "# Test 2: Frenet Frame and COM Frame\n",
    "\n",
    "Let's look at the tangent, normal, and binormal vectors for coils initialized around an elliptical surface. Hopefully they match our expectations, a more thorough debugging might be challenging. \n",
    "\n",
    "For ease of viewing, I only plotted the central coil filament."
   ]
  },
  {
   "cell_type": "code",
   "execution_count": null,
   "metadata": {},
   "outputs": [],
   "source": [
    "surface = Surface(\"../focusadd/initFiles/axes/ellipticalAxis5Rotate.txt\", 64, 32, 1.0)\n",
    "r = surface.get_r()\n",
    "x = r[:,:,0]\n",
    "y = r[:,:,1]\n",
    "z = r[:,:,2]\n",
    "args_dict = {}\n",
    "args_dict['numCoils'] = 8\n",
    "args_dict['numSegments'] = 32\n",
    "args_dict['numFourierCoils'] = 4\n",
    "args_dict['numFourierRotate'] = 4\n",
    "args_dict['lengthNormal'] = 0.02\n",
    "args_dict['lengthBinormal'] = 0.02\n",
    "args_dict['numNormalRotate'] = 2\n",
    "args_dict['numBinormalRotate'] = 2\n",
    "args_dict['radiusCoil'] = 2.0\n",
    "args_dict['numRotate'] = 0\n",
    "coil_data, params = CoilSet.get_initial_data(surface, args_dict = args_dict)\n",
    "_, dl, r_coils, r_middle, _ = CoilSet.get_outputs(coil_data, True, params)\n",
    "r_central = CoilSet.get_r_central(coil_data, True, params)\n",
    "T, N, B = CoilSet.get_frame(coil_data, True, params)"
   ]
  },
  {
   "cell_type": "code",
   "execution_count": null,
   "metadata": {},
   "outputs": [],
   "source": [
    "mlab.clf()\n",
    "p = mlab.mesh(x,y,z,color=(0.8,0.0,0.0))\n",
    "for ic in range(r_coils.shape[0]):\n",
    "    p = mlab.quiver3d(r_central[::,::,0],r_central[::,::,1],r_central[::,::,2],T[::,::,0],T[::,::,1],T[::,::,2])\n",
    "    p = mlab.plot3d(r_central[ic,:,0],r_central[ic,:,1],r_central[ic,:,2],tube_radius=0.004, line_width = 0.01, color=(0.0,0.0,0.8))"
   ]
  },
  {
   "cell_type": "code",
   "execution_count": null,
   "metadata": {},
   "outputs": [],
   "source": [
    "p"
   ]
  },
  {
   "cell_type": "code",
   "execution_count": null,
   "metadata": {},
   "outputs": [],
   "source": [
    "mlab.clf()\n",
    "for ic in range(r_coils.shape[0]):\n",
    "    p = mlab.quiver3d(r_central[::,::,0],r_central[::,::,1],r_central[::,::,2],N[::,::,0],N[::,::,1],N[::,::,2],color=(0.8,0.0,0.0))\n",
    "    p = mlab.plot3d(r_central[ic,:,0],r_central[ic,:,1],r_central[ic,:,2],tube_radius=0.004, line_width = 0.01, color=(0.0,0.0,0.8))"
   ]
  },
  {
   "cell_type": "code",
   "execution_count": null,
   "metadata": {},
   "outputs": [],
   "source": [
    "p"
   ]
  },
  {
   "cell_type": "code",
   "execution_count": null,
   "metadata": {},
   "outputs": [],
   "source": [
    "mlab.clf()\n",
    "#p = mlab.mesh(x,y,z,color=(0.8,0.0,0.0))\n",
    "for ic in range(r_coils.shape[0]):\n",
    "    p = mlab.quiver3d(r_central[::,::,0],r_central[::,::,1],r_central[::,::,2],B[::,::,0],B[::,::,1],B[::,::,2],color=(0.8,0.0,0.0))\n",
    "    p = mlab.plot3d(r_central[ic,:,0],r_central[ic,:,1],r_central[ic,:,2],tube_radius=0.004, line_width = 0.01, color=(0.0,0.0,0.8))"
   ]
  },
  {
   "cell_type": "code",
   "execution_count": null,
   "metadata": {},
   "outputs": [],
   "source": [
    "p"
   ]
  },
  {
   "cell_type": "markdown",
   "metadata": {},
   "source": [
    "Seems right. Now let's repeat these experiments but in the COM frame."
   ]
  },
  {
   "cell_type": "code",
   "execution_count": null,
   "metadata": {},
   "outputs": [],
   "source": [
    "surface = Surface(\"../focusadd/initFiles/axes/ellipticalAxis5Rotate.txt\", 64, 32, 1.0)\n",
    "r = surface.get_r()\n",
    "x = r[:,:,0]\n",
    "y = r[:,:,1]\n",
    "z = r[:,:,2]\n",
    "args_dict = {}\n",
    "args_dict['numCoils'] = 8\n",
    "args_dict['numSegments'] = 32\n",
    "args_dict['numFourierCoils'] = 4\n",
    "args_dict['numFourierRotate'] = 4\n",
    "args_dict['lengthNormal'] = 0.02\n",
    "args_dict['lengthBinormal'] = 0.02\n",
    "args_dict['numNormalRotate'] = 2\n",
    "args_dict['numBinormalRotate'] = 2\n",
    "args_dict['radiusCoil'] = 2.0\n",
    "args_dict['numRotate'] = 0\n",
    "coil_data, params = CoilSet.get_initial_data(surface, args_dict = args_dict)\n",
    "_, dl, r_coils, r_middle, _ = CoilSet.get_outputs(coil_data, False, params)\n",
    "r_central = CoilSet.get_r_central(coil_data, False, params)\n",
    "T, N, B = CoilSet.get_frame(coil_data, False, params)"
   ]
  },
  {
   "cell_type": "code",
   "execution_count": null,
   "metadata": {},
   "outputs": [],
   "source": [
    "mlab.clf()\n",
    "p = mlab.mesh(x,y,z,color=(0.8,0.0,0.0))\n",
    "for ic in range(r_coils.shape[0]):\n",
    "    p = mlab.quiver3d(r_central[::,::,0],r_central[::,::,1],r_central[::,::,2],T[::,::,0],T[::,::,1],T[::,::,2])\n",
    "    p = mlab.plot3d(r_central[ic,:,0],r_central[ic,:,1],r_central[ic,:,2],tube_radius=0.004, line_width = 0.01, color=(0.0,0.0,0.8))\n",
    "p"
   ]
  },
  {
   "cell_type": "code",
   "execution_count": null,
   "metadata": {},
   "outputs": [],
   "source": [
    "mlab.clf()\n",
    "for ic in range(r_coils.shape[0]):\n",
    "    p = mlab.quiver3d(r_central[::,::,0],r_central[::,::,1],r_central[::,::,2],N[::,::,0],N[::,::,1],N[::,::,2],color=(0.8,0.0,0.0))\n",
    "    p = mlab.plot3d(r_central[ic,:,0],r_central[ic,:,1],r_central[ic,:,2],tube_radius=0.004, line_width = 0.01, color=(0.0,0.0,0.8))\n",
    "p"
   ]
  },
  {
   "cell_type": "code",
   "execution_count": null,
   "metadata": {},
   "outputs": [],
   "source": [
    "mlab.clf()\n",
    "#p = mlab.mesh(x,y,z,color=(0.8,0.0,0.0))\n",
    "for ic in range(r_coils.shape[0]):\n",
    "    p = mlab.quiver3d(r_central[::,::,0],r_central[::,::,1],r_central[::,::,2],B[::,::,0],B[::,::,1],B[::,::,2],color=(0.8,0.0,0.0))\n",
    "    p = mlab.plot3d(r_central[ic,:,0],r_central[ic,:,1],r_central[ic,:,2],tube_radius=0.004, line_width = 0.01, color=(0.0,0.0,0.8))\n",
    "p"
   ]
  },
  {
   "cell_type": "markdown",
   "metadata": {},
   "source": [
    "Both seem to work. The main difference is in the N vector in the COM frame."
   ]
  },
  {
   "cell_type": "markdown",
   "metadata": {},
   "source": [
    "# Test 3: Multi-filament parametrization "
   ]
  },
  {
   "cell_type": "markdown",
   "metadata": {},
   "source": [
    "Let's make sure our winding pack approximation to the finite-build coils is doing what we want it to be doing. Let's start by varying arg_dict and seeing how that changes the properties of our multi-filament coils. \n",
    "\n",
    "Let's vary: \n",
    "\n",
    "1. numFourierCoils (NF)\n",
    "2. numFourierRotate (NFR)\n",
    "3. lengthNormal (ln or l1)\n",
    "4. lengthBinormal (lb or l2)\n",
    "5. radiusCoil \n",
    "6. numNormalRotate (NNR)\n",
    "7. numBinormalRotate (NBR)\n",
    "8. numRotate\n",
    "9. Fourier series of rotation\n",
    "\n",
    "Here are our default settings. "
   ]
  },
  {
   "cell_type": "code",
   "execution_count": null,
   "metadata": {},
   "outputs": [],
   "source": [
    "mlab.clf()\n",
    "surface = Surface(\"../focusadd/initFiles/axes/ellipticalAxis5Rotate.txt\", 64, 32, 1.0)\n",
    "r = surface.get_r()\n",
    "x = r[:,:,0]\n",
    "y = r[:,:,1]\n",
    "z = r[:,:,2]\n",
    "#p = mlab.mesh(x,y,z,color=(0.8,0.0,0.0))\n",
    "args_dict = {}\n",
    "args_dict['numCoils'] = 8\n",
    "args_dict['numSegments'] = 32\n",
    "args_dict['numFourierCoils'] = 4\n",
    "args_dict['numFourierRotate'] = 4\n",
    "args_dict['lengthNormal'] = 0.02\n",
    "args_dict['lengthBinormal'] = 0.02\n",
    "args_dict['numNormalRotate'] = 2\n",
    "args_dict['numBinormalRotate'] = 2\n",
    "args_dict['radiusCoil'] = 2.0\n",
    "args_dict['numRotate'] = 0\n",
    "coil_data, params = CoilSet.get_initial_data(surface, args_dict = args_dict)\n",
    "_, _, r_coils, _, _ = CoilSet.get_outputs(coil_data, False, params)\n",
    "for ic in range(1):\n",
    "    for n in range(r_coils.shape[2]):\n",
    "        for b in range(r_coils.shape[3]):\n",
    "            p = mlab.plot3d(r_coils[ic,:,n,b,0],r_coils[ic,:,n,b,1],r_coils[ic,:,n,b,2],tube_radius=0.004, line_width = 0.01, color=(0.0,0.0,0.8))\n",
    "p"
   ]
  },
  {
   "cell_type": "markdown",
   "metadata": {},
   "source": [
    "1. numFourierCoils (NF)"
   ]
  },
  {
   "cell_type": "code",
   "execution_count": null,
   "metadata": {},
   "outputs": [],
   "source": [
    "mlab.clf()\n",
    "args_dict['numFourierCoils'] = 2\n",
    "coil_data, params = CoilSet.get_initial_data(surface, args_dict = args_dict)\n",
    "_, _, r_coils, _, _ = CoilSet.get_outputs(coil_data, False, params)\n",
    "for ic in range(1):\n",
    "    for n in range(r_coils.shape[2]):\n",
    "        for b in range(r_coils.shape[3]):\n",
    "            p = mlab.plot3d(r_coils[ic,:,n,b,0],r_coils[ic,:,n,b,1],r_coils[ic,:,n,b,2],tube_radius=0.004, line_width = 0.01, color=(0.0,0.0,0.8))\n",
    "p"
   ]
  },
  {
   "cell_type": "code",
   "execution_count": null,
   "metadata": {},
   "outputs": [],
   "source": [
    "mlab.clf()\n",
    "args_dict['numFourierCoils'] = 3\n",
    "coil_data, params = CoilSet.get_initial_data(surface, args_dict = args_dict)\n",
    "_, _, r_coils, _, _ = CoilSet.get_outputs(coil_data, False, params)\n",
    "for ic in range(1):\n",
    "    for n in range(r_coils.shape[2]):\n",
    "        for b in range(r_coils.shape[3]):\n",
    "            p = mlab.plot3d(r_coils[ic,:,n,b,0],r_coils[ic,:,n,b,1],r_coils[ic,:,n,b,2],tube_radius=0.004, line_width = 0.01, color=(0.0,0.0,0.8))\n",
    "p"
   ]
  },
  {
   "cell_type": "code",
   "execution_count": null,
   "metadata": {},
   "outputs": [],
   "source": [
    "args_dict['numFourierCoils'] = 4"
   ]
  },
  {
   "cell_type": "markdown",
   "metadata": {},
   "source": [
    "2. numFourierRotate (NFR)"
   ]
  },
  {
   "cell_type": "code",
   "execution_count": null,
   "metadata": {
    "scrolled": true
   },
   "outputs": [],
   "source": [
    "mlab.clf()\n",
    "args_dict['numFourierRotate'] = 1\n",
    "coil_data, params = CoilSet.get_initial_data(surface, args_dict = args_dict)\n",
    "_, _, r_coils, _, _ = CoilSet.get_outputs(coil_data, False, params)\n",
    "for ic in range(1):\n",
    "    for n in range(r_coils.shape[2]):\n",
    "        for b in range(r_coils.shape[3]):\n",
    "            p = mlab.plot3d(r_coils[ic,:,n,b,0],r_coils[ic,:,n,b,1],r_coils[ic,:,n,b,2],tube_radius=0.004, line_width = 0.01, color=(0.0,0.0,0.8))\n",
    "p"
   ]
  },
  {
   "cell_type": "code",
   "execution_count": null,
   "metadata": {},
   "outputs": [],
   "source": [
    "mlab.clf()\n",
    "args_dict['numFourierRotate'] = 0\n",
    "coil_data, params = CoilSet.get_initial_data(surface, args_dict = args_dict)\n",
    "_, _, r_coils, _, _ = CoilSet.get_outputs(coil_data, False, params)\n",
    "for ic in range(1):\n",
    "    for n in range(r_coils.shape[2]):\n",
    "        for b in range(r_coils.shape[3]):\n",
    "            p = mlab.plot3d(r_coils[ic,:,n,b,0],r_coils[ic,:,n,b,1],r_coils[ic,:,n,b,2],tube_radius=0.004, line_width = 0.01, color=(0.0,0.0,0.8))\n",
    "p"
   ]
  },
  {
   "cell_type": "code",
   "execution_count": null,
   "metadata": {},
   "outputs": [],
   "source": [
    "args_dict['numFourierRotate'] = 4"
   ]
  },
  {
   "cell_type": "markdown",
   "metadata": {},
   "source": [
    "3. lengthNormal (ln or l1)"
   ]
  },
  {
   "cell_type": "code",
   "execution_count": null,
   "metadata": {},
   "outputs": [],
   "source": [
    "mlab.clf()\n",
    "args_dict['lengthNormal'] = 0.04\n",
    "coil_data, params = CoilSet.get_initial_data(surface, args_dict = args_dict)\n",
    "_, _, r_coils, _, _ = CoilSet.get_outputs(coil_data, False, params)\n",
    "for ic in range(1):\n",
    "    for n in range(r_coils.shape[2]):\n",
    "        for b in range(r_coils.shape[3]):\n",
    "            p = mlab.plot3d(r_coils[ic,:,n,b,0],r_coils[ic,:,n,b,1],r_coils[ic,:,n,b,2],tube_radius=0.004, line_width = 0.01, color=(0.0,0.0,0.8))\n",
    "p"
   ]
  },
  {
   "cell_type": "code",
   "execution_count": null,
   "metadata": {},
   "outputs": [],
   "source": [
    "mlab.clf()\n",
    "args_dict['lengthNormal'] = 0.08\n",
    "coil_data, params = CoilSet.get_initial_data(surface, args_dict = args_dict)\n",
    "_, _, r_coils, _, _ = CoilSet.get_outputs(coil_data, False, params)\n",
    "for ic in range(1):\n",
    "    for n in range(r_coils.shape[2]):\n",
    "        for b in range(r_coils.shape[3]):\n",
    "            p = mlab.plot3d(r_coils[ic,:,n,b,0],r_coils[ic,:,n,b,1],r_coils[ic,:,n,b,2],tube_radius=0.004, line_width = 0.01, color=(0.0,0.0,0.8))\n",
    "p"
   ]
  },
  {
   "cell_type": "code",
   "execution_count": null,
   "metadata": {},
   "outputs": [],
   "source": [
    "args_dict['lengthNormal'] = 0.02"
   ]
  },
  {
   "cell_type": "markdown",
   "metadata": {},
   "source": [
    "4. lengthBinormal (lb or l2)"
   ]
  },
  {
   "cell_type": "code",
   "execution_count": null,
   "metadata": {},
   "outputs": [],
   "source": [
    "mlab.clf()\n",
    "args_dict['lengthBinormal'] = 0.08\n",
    "coil_data, params = CoilSet.get_initial_data(surface, args_dict = args_dict)\n",
    "_, _, r_coils, _, _ = CoilSet.get_outputs(coil_data, False, params)\n",
    "for ic in range(1):\n",
    "    for n in range(r_coils.shape[2]):\n",
    "        for b in range(r_coils.shape[3]):\n",
    "            p = mlab.plot3d(r_coils[ic,:,n,b,0],r_coils[ic,:,n,b,1],r_coils[ic,:,n,b,2],tube_radius=0.004, line_width = 0.01, color=(0.0,0.0,0.8))\n",
    "p"
   ]
  },
  {
   "cell_type": "code",
   "execution_count": null,
   "metadata": {},
   "outputs": [],
   "source": [
    "args_dict['lengthBinormal'] = 0.02"
   ]
  },
  {
   "cell_type": "code",
   "execution_count": null,
   "metadata": {},
   "outputs": [],
   "source": []
  },
  {
   "cell_type": "markdown",
   "metadata": {},
   "source": [
    "5. radiusCoil "
   ]
  },
  {
   "cell_type": "code",
   "execution_count": null,
   "metadata": {},
   "outputs": [],
   "source": [
    "mlab.clf()\n",
    "args_dict['radiusCoil'] = 4.0\n",
    "coil_data, params = CoilSet.get_initial_data(surface, args_dict = args_dict)\n",
    "_, _, r_coils, _, _ = CoilSet.get_outputs(coil_data, False, params)\n",
    "for ic in range(1):\n",
    "    for n in range(r_coils.shape[2]):\n",
    "        for b in range(r_coils.shape[3]):\n",
    "            p = mlab.plot3d(r_coils[ic,:,n,b,0],r_coils[ic,:,n,b,1],r_coils[ic,:,n,b,2],tube_radius=0.004, line_width = 0.01, color=(0.0,0.0,0.8))\n",
    "p"
   ]
  },
  {
   "cell_type": "code",
   "execution_count": null,
   "metadata": {},
   "outputs": [],
   "source": [
    "mlab.clf()\n",
    "args_dict['radiusCoil'] = 8.0\n",
    "coil_data, params = CoilSet.get_initial_data(surface, args_dict = args_dict)\n",
    "_, _, r_coils, _, _ = CoilSet.get_outputs(coil_data, False, params)\n",
    "for ic in range(1):\n",
    "    for n in range(r_coils.shape[2]):\n",
    "        for b in range(r_coils.shape[3]):\n",
    "            p = mlab.plot3d(r_coils[ic,:,n,b,0],r_coils[ic,:,n,b,1],r_coils[ic,:,n,b,2],tube_radius=0.004, line_width = 0.01, color=(0.0,0.0,0.8))\n",
    "p"
   ]
  },
  {
   "cell_type": "code",
   "execution_count": null,
   "metadata": {},
   "outputs": [],
   "source": [
    "args_dict['radiusCoil'] = 2.0"
   ]
  },
  {
   "cell_type": "markdown",
   "metadata": {},
   "source": [
    "6. numNormalRotate (NNR)"
   ]
  },
  {
   "cell_type": "code",
   "execution_count": null,
   "metadata": {},
   "outputs": [],
   "source": [
    "mlab.clf()\n",
    "args_dict['numNormalRotate'] = 4\n",
    "coil_data, params = CoilSet.get_initial_data(surface, args_dict = args_dict)\n",
    "_, _, r_coils, _, _ = CoilSet.get_outputs(coil_data, False, params)\n",
    "for ic in range(1):\n",
    "    for n in range(r_coils.shape[2]):\n",
    "        for b in range(r_coils.shape[3]):\n",
    "            p = mlab.plot3d(r_coils[ic,:,n,b,0],r_coils[ic,:,n,b,1],r_coils[ic,:,n,b,2],tube_radius=0.004, line_width = 0.01, color=(0.0,0.0,0.8))\n",
    "p"
   ]
  },
  {
   "cell_type": "code",
   "execution_count": null,
   "metadata": {},
   "outputs": [],
   "source": [
    "args_dict['numNormalRotate'] = 2"
   ]
  },
  {
   "cell_type": "markdown",
   "metadata": {},
   "source": [
    "7. numBinormalRotate (NBR)"
   ]
  },
  {
   "cell_type": "code",
   "execution_count": null,
   "metadata": {},
   "outputs": [],
   "source": [
    "mlab.clf()\n",
    "args_dict['numBinormalRotate'] = 4\n",
    "coil_data, params = CoilSet.get_initial_data(surface, args_dict = args_dict)\n",
    "_, _, r_coils, _, _ = CoilSet.get_outputs(coil_data, False, params)\n",
    "for ic in range(1):\n",
    "    for n in range(r_coils.shape[2]):\n",
    "        for b in range(r_coils.shape[3]):\n",
    "            p = mlab.plot3d(r_coils[ic,:,n,b,0],r_coils[ic,:,n,b,1],r_coils[ic,:,n,b,2],tube_radius=0.004, line_width = 0.01, color=(0.0,0.0,0.8))\n",
    "p"
   ]
  },
  {
   "cell_type": "code",
   "execution_count": null,
   "metadata": {},
   "outputs": [],
   "source": [
    "args_dict['numBinormalRotate'] = 2"
   ]
  },
  {
   "cell_type": "markdown",
   "metadata": {},
   "source": [
    "8. numRotate"
   ]
  },
  {
   "cell_type": "code",
   "execution_count": null,
   "metadata": {},
   "outputs": [],
   "source": [
    "mlab.clf()\n",
    "args_dict['numRotate'] = 1\n",
    "coil_data, params = CoilSet.get_initial_data(surface, args_dict = args_dict)\n",
    "_, _, r_coils, _, _ = CoilSet.get_outputs(coil_data, False, params)\n",
    "for ic in range(1):\n",
    "    for n in range(r_coils.shape[2]):\n",
    "        for b in range(r_coils.shape[3]):\n",
    "            p = mlab.plot3d(r_coils[ic,:,n,b,0],r_coils[ic,:,n,b,1],r_coils[ic,:,n,b,2],tube_radius=0.004, line_width = 0.01, color=(0.0,0.0,0.8))\n",
    "p"
   ]
  },
  {
   "cell_type": "code",
   "execution_count": null,
   "metadata": {},
   "outputs": [],
   "source": [
    "mlab.clf()\n",
    "args_dict['numRotate'] = 2\n",
    "coil_data, params = CoilSet.get_initial_data(surface, args_dict = args_dict)\n",
    "_, _, r_coils, _, _ = CoilSet.get_outputs(coil_data, False, params)\n",
    "for ic in range(1):\n",
    "    for n in range(r_coils.shape[2]):\n",
    "        for b in range(r_coils.shape[3]):\n",
    "            p = mlab.plot3d(r_coils[ic,:,n,b,0],r_coils[ic,:,n,b,1],r_coils[ic,:,n,b,2],tube_radius=0.004, line_width = 0.01, color=(0.0,0.0,0.8))\n",
    "p"
   ]
  },
  {
   "cell_type": "code",
   "execution_count": null,
   "metadata": {},
   "outputs": [],
   "source": [
    "mlab.clf()\n",
    "args_dict['numRotate'] = 3\n",
    "coil_data, params = CoilSet.get_initial_data(surface, args_dict = args_dict)\n",
    "_, _, r_coils, _, _ = CoilSet.get_outputs(coil_data, False, params)\n",
    "for ic in range(1):\n",
    "    for n in range(r_coils.shape[2]):\n",
    "        for b in range(r_coils.shape[3]):\n",
    "            p = mlab.plot3d(r_coils[ic,:,n,b,0],r_coils[ic,:,n,b,1],r_coils[ic,:,n,b,2],tube_radius=0.004, line_width = 0.01, color=(0.0,0.0,0.8))\n",
    "p"
   ]
  },
  {
   "cell_type": "code",
   "execution_count": null,
   "metadata": {},
   "outputs": [],
   "source": [
    "args_dict['numRotate'] = 0"
   ]
  },
  {
   "cell_type": "markdown",
   "metadata": {},
   "source": [
    "9. Fourier series of rotation"
   ]
  },
  {
   "cell_type": "code",
   "execution_count": null,
   "metadata": {},
   "outputs": [],
   "source": [
    "coil_data, params = CoilSet.get_initial_data(surface, args_dict = args_dict)\n",
    "fc, fr = params\n"
   ]
  },
  {
   "cell_type": "code",
   "execution_count": null,
   "metadata": {},
   "outputs": [],
   "source": [
    "print(fr.shape)"
   ]
  },
  {
   "cell_type": "code",
   "execution_count": null,
   "metadata": {},
   "outputs": [],
   "source": [
    "fr = index_update(fr, index[0,0,0],3.14/4.)\n",
    "params = fc, fr"
   ]
  },
  {
   "cell_type": "code",
   "execution_count": null,
   "metadata": {},
   "outputs": [],
   "source": [
    "mlab.clf()\n",
    "_, _, r_coils, _, _ = CoilSet.get_outputs(coil_data, False, params)\n",
    "for ic in range(1):\n",
    "    for n in range(r_coils.shape[2]):\n",
    "        for b in range(r_coils.shape[3]):\n",
    "            p = mlab.plot3d(r_coils[ic,:,n,b,0],r_coils[ic,:,n,b,1],r_coils[ic,:,n,b,2],tube_radius=0.004, line_width = 0.01, color=(0.0,0.0,0.8))\n",
    "p"
   ]
  },
  {
   "cell_type": "code",
   "execution_count": null,
   "metadata": {},
   "outputs": [],
   "source": [
    "fr = index_update(fr, index[0,0,0],0.0)\n",
    "fr = index_update(fr, index[0,0,1],3.14/2)\n",
    "params = fc, fr\n",
    "_, _, r_coils, _, _ = CoilSet.get_outputs(coil_data, False, params)"
   ]
  },
  {
   "cell_type": "code",
   "execution_count": null,
   "metadata": {},
   "outputs": [],
   "source": [
    "mlab.clf()\n",
    "for ic in range(1):\n",
    "    for n in range(r_coils.shape[2]):\n",
    "        for b in range(r_coils.shape[3]):\n",
    "            p = mlab.plot3d(r_coils[ic,:,n,b,0],r_coils[ic,:,n,b,1],r_coils[ic,:,n,b,2],tube_radius=0.004, line_width = 0.01, color=(0.0,0.0,0.8))\n",
    "p"
   ]
  },
  {
   "cell_type": "markdown",
   "metadata": {},
   "source": [
    "Looks correct. Good. "
   ]
  },
  {
   "cell_type": "markdown",
   "metadata": {},
   "source": [
    "# Test 4: Check dl"
   ]
  },
  {
   "cell_type": "code",
   "execution_count": null,
   "metadata": {},
   "outputs": [],
   "source": [
    "mlab.clf()\n",
    "surface = Surface(\"../../focusadd/initFiles/axes/ellipticalAxis5Rotate.txt\", 64, 32, 1.0)\n",
    "r = surface.get_r()\n",
    "x = r[:,:,0]\n",
    "y = r[:,:,1]\n",
    "z = r[:,:,2]\n",
    "#p = mlab.mesh(x,y,z,color=(0.8,0.0,0.0))\n",
    "args_dict = {}\n",
    "args_dict['numCoils'] = 8\n",
    "args_dict['numSegments'] = 64\n",
    "args_dict['numFourierCoils'] = 4\n",
    "args_dict['numFourierRotate'] = 4\n",
    "args_dict['lengthNormal'] = 0.02\n",
    "args_dict['lengthBinormal'] = 0.02\n",
    "args_dict['numNormalRotate'] = 2\n",
    "args_dict['numBinormalRotate'] = 2\n",
    "args_dict['radiusCoil'] = 2.0\n",
    "args_dict['numRotate'] = 0\n",
    "coil_data, params = CoilSet.get_initial_data(surface, args_dict = args_dict)\n",
    "_, dl, r_coils, _ = CoilSet.get_outputs(coil_data, params)"
   ]
  },
  {
   "cell_type": "code",
   "execution_count": null,
   "metadata": {},
   "outputs": [],
   "source": [
    "mlab.clf()\n",
    "#p = mlab.mesh(x,y,z,color=(0.8,0.0,0.0))\n",
    "for ic in range(1):\n",
    "    for n in range(r_coils.shape[2]):\n",
    "        for b in range(r_coils.shape[3]):\n",
    "            p = mlab.plot3d(r_coils[ic,:,n,b,0],r_coils[ic,:,n,b,1],r_coils[ic,:,n,b,2],tube_radius=0.004, line_width = 0.01, color=(0.0,0.0,0.8))\n",
    "            p = mlab.quiver3d(r_coils[ic,::,n,b,0],r_coils[ic,::,n,b,1],r_coils[ic,::,n,b,2],dl[ic,::,n,b,0],dl[ic,::,n,b,1],dl[ic,::,n,b,2])\n",
    "p"
   ]
  },
  {
   "cell_type": "markdown",
   "metadata": {},
   "source": [
    "Seems to work so far. Now let's try changing N_rotate and seeing what happens. "
   ]
  },
  {
   "cell_type": "code",
   "execution_count": null,
   "metadata": {},
   "outputs": [],
   "source": [
    "args_dict = {}\n",
    "args_dict['numCoils'] = 8\n",
    "args_dict['numSegments'] = 32\n",
    "args_dict['numFourierCoils'] = 4\n",
    "args_dict['numFourierRotate'] = 4\n",
    "args_dict['lengthNormal'] = 0.02\n",
    "args_dict['lengthBinormal'] = 0.02\n",
    "args_dict['numNormalRotate'] = 2\n",
    "args_dict['numBinormalRotate'] = 2\n",
    "args_dict['radiusCoil'] = 2.0\n",
    "args_dict['numRotate'] = 4\n",
    "coil_data, params = CoilSet.get_initial_data(surface, args_dict = args_dict)\n",
    "_, dl, r_coils, _ = CoilSet.get_outputs(coil_data, params)"
   ]
  },
  {
   "cell_type": "code",
   "execution_count": null,
   "metadata": {},
   "outputs": [],
   "source": [
    "mlab.clf()\n",
    "#p = mlab.mesh(x,y,z,color=(0.8,0.0,0.0))\n",
    "for ic in range(1):\n",
    "    for n in range(r_coils.shape[2]):\n",
    "        for b in range(r_coils.shape[3]):\n",
    "            p = mlab.plot3d(r_coils[ic,:,n,b,0],r_coils[ic,:,n,b,1],r_coils[ic,:,n,b,2],tube_radius=0.004, line_width = 0.01, color=(0.0,0.0,0.8))\n",
    "            p = mlab.quiver3d(r_coils[ic,::,n,b,0],r_coils[ic,::,n,b,1],r_coils[ic,::,n,b,2],dl[ic,::,n,b,0],dl[ic,::,n,b,1],dl[ic,::,n,b,2])\n",
    "p"
   ]
  },
  {
   "cell_type": "code",
   "execution_count": null,
   "metadata": {},
   "outputs": [],
   "source": [
    "args_dict = {}\n",
    "args_dict['numCoils'] = 8\n",
    "args_dict['numSegments'] = 32\n",
    "args_dict['numFourierCoils'] = 4\n",
    "args_dict['numFourierRotate'] = 4\n",
    "args_dict['lengthNormal'] = 0.02\n",
    "args_dict['lengthBinormal'] = 0.02\n",
    "args_dict['numNormalRotate'] = 2\n",
    "args_dict['numBinormalRotate'] = 2\n",
    "args_dict['radiusCoil'] = 2.0\n",
    "args_dict['numRotate'] = 0\n",
    "coil_data, params = CoilSet.get_initial_data(surface, args_dict = args_dict)\n",
    "fc, fr = params\n",
    "fr = index_update(fr, index[0,0,1],3.14)\n",
    "params = (fc, fr)\n",
    "_, dl, r_coils, _ = CoilSet.get_outputs(coil_data, params)"
   ]
  },
  {
   "cell_type": "code",
   "execution_count": null,
   "metadata": {},
   "outputs": [],
   "source": [
    "mlab.clf()\n",
    "#p = mlab.mesh(x,y,z,color=(0.8,0.0,0.0))\n",
    "for ic in range(1):\n",
    "    for n in range(r_coils.shape[2]):\n",
    "        for b in range(r_coils.shape[3]):\n",
    "            p = mlab.plot3d(r_coils[ic,:,n,b,0],r_coils[ic,:,n,b,1],r_coils[ic,:,n,b,2],tube_radius=0.004, line_width = 0.01, color=(0.0,0.0,0.8))\n",
    "            p = mlab.quiver3d(r_coils[ic,::,n,b,0],r_coils[ic,::,n,b,1],r_coils[ic,::,n,b,2],dl[ic,::,n,b,0],dl[ic,::,n,b,1],dl[ic,::,n,b,2])\n",
    "p"
   ]
  },
  {
   "cell_type": "code",
   "execution_count": null,
   "metadata": {},
   "outputs": [],
   "source": []
  }
 ],
 "metadata": {
  "kernelspec": {
   "display_name": "Python 3",
   "language": "python",
   "name": "python3"
  },
  "language_info": {
   "codemirror_mode": {
    "name": "ipython",
    "version": 3
   },
   "file_extension": ".py",
   "mimetype": "text/x-python",
   "name": "python",
   "nbconvert_exporter": "python",
   "pygments_lexer": "ipython3",
   "version": "3.7.7"
  }
 },
 "nbformat": 4,
 "nbformat_minor": 2
}
