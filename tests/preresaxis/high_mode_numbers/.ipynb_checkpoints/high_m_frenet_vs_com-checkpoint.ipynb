{
 "cells": [
  {
   "cell_type": "code",
   "execution_count": null,
   "metadata": {},
   "outputs": [],
   "source": [
    "import sys\n",
    "sys.path.append(\"../../\")\n",
    "import numpy as np\n",
    "import focusadd\n",
    "from focusadd.surface.Surface import Surface\n",
    "from focusadd.coils.CoilSet import CoilSet\n",
    "import numpy as np\n",
    "import mayavi as maya\n",
    "from mayavi import mlab\n",
    "mlab.init_notebook('x3d',800,800)"
   ]
  },
  {
   "cell_type": "code",
   "execution_count": null,
   "metadata": {},
   "outputs": [],
   "source": [
    "mlab.clf()\n",
    "surface = Surface(\"../../focusadd/initFiles/axes/ellipticalAxis4Rotate.txt\", 64, 32, 1.0)\n",
    "r = surface.get_r()\n",
    "x = r[:,:,0]\n",
    "y = r[:,:,1]\n",
    "z = r[:,:,2]\n",
    "#p = mlab.mesh(x,y,z,color=(0.8,0.0,0.0))\n",
    "coil_data, params = CoilSet.get_initial_data(surface, input_file=\"frenet_high_m.hdf5\")\n",
    "_, _, r_coils, _, _ = CoilSet.get_outputs(coil_data, True, params)\n",
    "for ic in range(3):\n",
    "    for n in range(r_coils.shape[2]):\n",
    "        for b in range(r_coils.shape[3]):\n",
    "            p = mlab.plot3d(r_coils[ic,:,n,b,0],r_coils[ic,:,n,b,1],r_coils[ic,:,n,b,2],tube_radius=0.004, line_width = 0.01, color=(0.0,0.0,0.8))\n",
    "p"
   ]
  },
  {
   "cell_type": "code",
   "execution_count": null,
   "metadata": {},
   "outputs": [],
   "source": [
    "mlab.clf()\n",
    "surface = Surface(\"../../focusadd/initFiles/axes/ellipticalAxis4Rotate.txt\", 64, 32, 1.0)\n",
    "r = surface.get_r()\n",
    "x = r[:,:,0]\n",
    "y = r[:,:,1]\n",
    "z = r[:,:,2]\n",
    "#p = mlab.mesh(x,y,z,color=(0.8,0.0,0.0))\n",
    "coil_data, params = CoilSet.get_initial_data(surface, input_file=\"com_high_m.hdf5\")\n",
    "_, _, r_coils, _, _ = CoilSet.get_outputs(coil_data, False, params)\n",
    "for ic in range(3):\n",
    "    for n in range(r_coils.shape[2]):\n",
    "        for b in range(r_coils.shape[3]):\n",
    "            p = mlab.plot3d(r_coils[ic,:,n,b,0],r_coils[ic,:,n,b,1],r_coils[ic,:,n,b,2],tube_radius=0.004, line_width = 0.01, color=(0.0,0.0,0.8))\n",
    "p"
   ]
  },
  {
   "cell_type": "code",
   "execution_count": null,
   "metadata": {},
   "outputs": [],
   "source": []
  }
 ],
 "metadata": {
  "kernelspec": {
   "display_name": "Python 3",
   "language": "python",
   "name": "python3"
  },
  "language_info": {
   "codemirror_mode": {
    "name": "ipython",
    "version": 3
   },
   "file_extension": ".py",
   "mimetype": "text/x-python",
   "name": "python",
   "nbconvert_exporter": "python",
   "pygments_lexer": "ipython3",
   "version": "3.7.7"
  }
 },
 "nbformat": 4,
 "nbformat_minor": 4
}
