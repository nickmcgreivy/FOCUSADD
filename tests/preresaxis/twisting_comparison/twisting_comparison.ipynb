{
 "cells": [
  {
   "cell_type": "code",
   "execution_count": null,
   "metadata": {},
   "outputs": [],
   "source": [
    "import sys\n",
    "sys.path.append(\"../../\")\n",
    "import csv\n",
    "import matplotlib.pyplot as plt\n",
    "import numpy as np\n",
    "import focusadd\n",
    "from focusadd.surface.Surface import Surface\n",
    "from focusadd.coils.CoilSet import CoilSet\n",
    "from focusadd.lossFunctions.DefaultLoss import default_loss\n",
    "import numpy as np\n",
    "import mayavi as maya\n",
    "from mayavi import mlab\n",
    "from functools import partial\n",
    "mlab.init_notebook('x3d',800,800)"
   ]
  },
  {
   "cell_type": "code",
   "execution_count": null,
   "metadata": {},
   "outputs": [],
   "source": [
    "def draw_surface(surface):\n",
    "    r = surface.get_r()\n",
    "    x = r[:,:,0]\n",
    "    y = r[:,:,1]\n",
    "    z = r[:,:,2]\n",
    "    p = mlab.mesh(x,y,z,color=(0.8,0.0,0.0))\n",
    "    return p\n",
    "\n",
    "def draw_r_centroid(r_centroid, color = \"blue\"):\n",
    "    if color.lower() == \"blue\":\n",
    "        tup = (0.0, 0.0, 0.8)\n",
    "    elif color.lower() == \"red\":\n",
    "        tup = (0.8, 0.0, 0.0)\n",
    "    else:\n",
    "        tup = (0.0, 0.8, 0.0)\n",
    "    for ic in range(r_centroid.shape[0]):\n",
    "        p = mlab.plot3d(r_centroid[ic,:,0], r_centroid[ic,:,1], r_centroid[ic,:,2], tube_radius = 0.004, line_width = 0.01, color = tup)\n",
    "    return p\n",
    "\n",
    "def draw_coils(r_coils, color = \"blue\"):\n",
    "    if color.lower() == \"blue\":\n",
    "        tup = (0.0, 0.0, 0.8)\n",
    "    elif color.lower() == \"red\":\n",
    "        tup = (0.8, 0.0, 0.0)\n",
    "    else:\n",
    "        tup = (0.0, 0.8, 0.0)\n",
    "    for ic in range(r_coils.shape[0]):\n",
    "        for n in range(r_coils.shape[2]):\n",
    "            for b in range(r_coils.shape[3]):\n",
    "                p = mlab.plot3d(r_coils[ic,:,n,b,0], r_coils[ic,:,n,b,1], r_coils[ic,:,n,b,2], tube_radius = 0.004, line_width = 0.01, color = tup)\n",
    "    return p"
   ]
  },
  {
   "cell_type": "code",
   "execution_count": null,
   "metadata": {},
   "outputs": [],
   "source": [
    "surface = Surface(\"../../focusadd/initFiles/axes/ellipticalAxis4Rotate.txt\", 128, 32, 1.0)"
   ]
  },
  {
   "cell_type": "code",
   "execution_count": null,
   "metadata": {},
   "outputs": [],
   "source": [
    "coil_data_rot, params_rot = CoilSet.get_initial_data(surface, input_file=\"rotate_rectangular.hdf5\")\n",
    "_, _, r_rot, _, l_rot = CoilSet.get_outputs(coil_data_rot, False, params_rot)\n",
    "r_centroid_rot = CoilSet.get_r_centroid(coil_data_rot, False, params_rot)"
   ]
  },
  {
   "cell_type": "code",
   "execution_count": null,
   "metadata": {},
   "outputs": [],
   "source": [
    "coil_data_fb, params_fb = CoilSet.get_initial_data(surface, input_file=\"fixed_rectangular.hdf5\")\n",
    "_, _, r_fb, _, l_fb = CoilSet.get_outputs(coil_data_fb, False, params_fb)\n",
    "r_centroid_fb = CoilSet.get_r_centroid(coil_data_fb, False, params_fb)"
   ]
  },
  {
   "cell_type": "code",
   "execution_count": null,
   "metadata": {},
   "outputs": [],
   "source": [
    "mlab.clf()\n",
    "p = draw_surface(surface)\n",
    "p = draw_coils(r_rot, color=\"green\")\n",
    "p"
   ]
  },
  {
   "cell_type": "code",
   "execution_count": null,
   "metadata": {},
   "outputs": [],
   "source": [
    "mlab.clf()\n",
    "p = draw_surface(surface)\n",
    "p = draw_coils(r_fb, color=\"blue\")\n",
    "p"
   ]
  },
  {
   "cell_type": "code",
   "execution_count": null,
   "metadata": {},
   "outputs": [],
   "source": [
    "mlab.clf()\n",
    "p = draw_coils(r_fb, color=\"blue\")\n",
    "p = draw_coils(r_rot, color=\"green\")\n",
    "p"
   ]
  },
  {
   "cell_type": "code",
   "execution_count": null,
   "metadata": {},
   "outputs": [],
   "source": []
  }
 ],
 "metadata": {
  "kernelspec": {
   "display_name": "Python 3",
   "language": "python",
   "name": "python3"
  },
  "language_info": {
   "codemirror_mode": {
    "name": "ipython",
    "version": 3
   },
   "file_extension": ".py",
   "mimetype": "text/x-python",
   "name": "python",
   "nbconvert_exporter": "python",
   "pygments_lexer": "ipython3",
   "version": "3.7.7"
  }
 },
 "nbformat": 4,
 "nbformat_minor": 4
}
