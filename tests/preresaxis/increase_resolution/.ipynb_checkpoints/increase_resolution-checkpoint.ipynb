{
 "cells": [
  {
   "cell_type": "code",
   "execution_count": null,
   "metadata": {},
   "outputs": [],
   "source": [
    "import sys\n",
    "sys.path.append(\"../../\")\n",
    "import csv\n",
    "import matplotlib.pyplot as plt\n",
    "import numpy as np\n",
    "import focusadd\n",
    "from focusadd.surface.Surface import Surface\n",
    "from focusadd.coils.CoilSet import CoilSet\n",
    "from focusadd.lossFunctions.DefaultLoss import default_loss\n",
    "import numpy as np\n",
    "import mayavi as maya\n",
    "from mayavi import mlab\n",
    "from functools import partial\n",
    "mlab.init_notebook('x3d',800,800)"
   ]
  },
  {
   "cell_type": "code",
   "execution_count": null,
   "metadata": {},
   "outputs": [],
   "source": [
    "surface = Surface(\"../../focusadd/initFiles/axes/ellipticalAxis4Rotate.txt\", 128, 32, 1.0)"
   ]
  },
  {
   "cell_type": "code",
   "execution_count": null,
   "metadata": {},
   "outputs": [],
   "source": [
    "coil_data_fil, params_fil = CoilSet.get_initial_data(surface, input_file=\"filament.hdf5\")\n",
    "_, _, r_fil, _, l_fil = CoilSet.get_outputs(coil_data_fil, False, params_fil)\n",
    "r_centroid_fil = CoilSet.get_r_centroid(coil_data_fil, False, params_fil)"
   ]
  },
  {
   "cell_type": "markdown",
   "metadata": {},
   "source": [
    "# What happens if I increase the surface resolution? Does this change my loss function values?"
   ]
  },
  {
   "cell_type": "markdown",
   "metadata": {},
   "source": [
    "Let's start with the default surface and get a loss value."
   ]
  },
  {
   "cell_type": "code",
   "execution_count": null,
   "metadata": {},
   "outputs": [],
   "source": [
    "def draw_coils(r_coils, color = \"blue\"):\n",
    "    if color.lower() == \"blue\":\n",
    "        tup = (0.0, 0.0, 0.8)\n",
    "    elif color.lower() == \"red\":\n",
    "        tup = (0.8, 0.0, 0.0)\n",
    "    else:\n",
    "        tup = (0.0, 0.8, 0.0)\n",
    "    for ic in range(r_coils.shape[0]):\n",
    "        for n in range(r_coils.shape[2]):\n",
    "            for b in range(r_coils.shape[3]):\n",
    "                p = mlab.plot3d(r_coils[ic,:,n,b,0], r_coils[ic,:,n,b,1], r_coils[ic,:,n,b,2], tube_radius = 0.004, line_width = 0.01, color = tup)\n",
    "    return p\n",
    "def draw_surface(surface):\n",
    "    r = surface.get_r()\n",
    "    x = r[:,:,0]\n",
    "    y = r[:,:,1]\n",
    "    z = r[:,:,2]\n",
    "    p = mlab.mesh(x,y,z,color=(0.8,0.0,0.0))\n",
    "    return p\n",
    "\n",
    "mlab.clf()\n",
    "draw_surface(Surface(\"../../focusadd/initFiles/axes/ellipticalAxis4Rotate.txt\", 128, 32, 1.0))\n",
    "draw_coils(r_fil)"
   ]
  },
  {
   "cell_type": "code",
   "execution_count": null,
   "metadata": {},
   "outputs": [],
   "source": [
    "def compute_f_B(NZ, NT, NS):\n",
    "    surface = Surface(\"../../focusadd/initFiles/axes/ellipticalAxis4Rotate.txt\", NZ, NT, 1.0)\n",
    "    w_L = 0.1\n",
    "    w_B = 1e3\n",
    "    w_args = (w_B, w_L)\n",
    "    coil_data_fil, params_fil = CoilSet.get_initial_data(surface, input_file=\"filament.hdf5\")\n",
    "    NC, _, NF, NFR, ln, lb, NNR, NBR, rc, NR = coil_data_fil\n",
    "    coil_data_fil = NC, NS, NF, NFR, ln, lb, NNR, NBR, rc, NR\n",
    "    _, _, r_fil, _, l_fil = CoilSet.get_outputs(coil_data_fil, False, params_fil)\n",
    "    r_centroid_fil = CoilSet.get_r_centroid(coil_data_fil, False, params_fil)\n",
    "    surface_data = (surface.get_r_central(), surface.get_nn(), surface.get_sg())\n",
    "    coil_output_func_fil = partial(CoilSet.get_outputs, coil_data_fil, False)\n",
    "    loss_fil = default_loss(surface_data, coil_output_func_fil, w_args, params_fil)\n",
    "    f_B = loss_fil - w_L * l_fil\n",
    "    return f_B"
   ]
  },
  {
   "cell_type": "code",
   "execution_count": null,
   "metadata": {},
   "outputs": [],
   "source": [
    "NT = 32\n",
    "NS = 64\n",
    "NZs = [16, 32, 64, 96, 128, 192, 256, 320, 384, 448, 512]\n",
    "f_Bs_NZ = []\n",
    "for NZ in NZs:\n",
    "    f_B = compute_f_B(NZ, NT, NS)\n",
    "    f_Bs_NZ.append(f_B)"
   ]
  },
  {
   "cell_type": "code",
   "execution_count": null,
   "metadata": {},
   "outputs": [],
   "source": [
    "plt.plot(NZs, f_Bs_NZ)\n",
    "plt.ylim([0.019,0.027])\n",
    "plt.title(\"Quadratic flux vs num_zeta on surface\")\n",
    "plt.show()"
   ]
  },
  {
   "cell_type": "code",
   "execution_count": null,
   "metadata": {},
   "outputs": [],
   "source": [
    "NT = 32\n",
    "NSs = [16, 32, 64, 96, 128, 192, 256, 320, 384, 448, 512]\n",
    "NZ = 128\n",
    "f_Bs_NS = []\n",
    "for NS in NSs:\n",
    "    f_B = compute_f_B(NZ, NT, NS)\n",
    "    f_Bs_NS.append(f_B)"
   ]
  },
  {
   "cell_type": "code",
   "execution_count": null,
   "metadata": {},
   "outputs": [],
   "source": [
    "plt.plot(NSs, f_Bs_NS)\n",
    "plt.ylim([0.021,0.024])\n",
    "plt.title(\"Quadratic flux vs num_segments in coils\")\n",
    "plt.show()"
   ]
  },
  {
   "cell_type": "code",
   "execution_count": null,
   "metadata": {},
   "outputs": [],
   "source": [
    "NTs = [16, 32, 64, 96, 128, 192, 256, 320, 384, 448, 512]\n",
    "NS = 64\n",
    "NZ = 128\n",
    "f_Bs_NT = []\n",
    "for NT in NTs:\n",
    "    f_B = compute_f_B(NZ, NT, NS)\n",
    "    f_Bs_NT.append(f_B)"
   ]
  },
  {
   "cell_type": "code",
   "execution_count": null,
   "metadata": {},
   "outputs": [],
   "source": [
    "plt.plot(NSs, f_Bs_NT)\n",
    "plt.ylim([0.0212,0.0213])\n",
    "plt.title(\"Quadratic flux vs num_theta on surface\")\n",
    "plt.show()"
   ]
  },
  {
   "cell_type": "code",
   "execution_count": null,
   "metadata": {},
   "outputs": [],
   "source": [
    "def draw_surface(surface,color=(0.8,0.0,0.0)):\n",
    "    r = surface.get_r()\n",
    "    x = r[:,:,0]\n",
    "    y = r[:,:,1]\n",
    "    z = r[:,:,2]\n",
    "    p = mlab.mesh(x,y,z,color=color)\n",
    "    return p\n",
    "mlab.clf()\n",
    "draw_surface(Surface(\"../../focusadd/initFiles/axes/ellipticalAxis4Rotate.txt\", 8, NT, 1.0))\n",
    "draw_surface(Surface(\"../../focusadd/initFiles/axes/ellipticalAxis4Rotate.txt\", 128, NT, 1.0), color=(0.0,0.8,0.0))"
   ]
  },
  {
   "cell_type": "code",
   "execution_count": null,
   "metadata": {},
   "outputs": [],
   "source": []
  },
  {
   "cell_type": "code",
   "execution_count": null,
   "metadata": {},
   "outputs": [],
   "source": []
  }
 ],
 "metadata": {
  "kernelspec": {
   "display_name": "Python 3",
   "language": "python",
   "name": "python3"
  },
  "language_info": {
   "codemirror_mode": {
    "name": "ipython",
    "version": 3
   },
   "file_extension": ".py",
   "mimetype": "text/x-python",
   "name": "python",
   "nbconvert_exporter": "python",
   "pygments_lexer": "ipython3",
   "version": "3.7.7"
  }
 },
 "nbformat": 4,
 "nbformat_minor": 4
}
