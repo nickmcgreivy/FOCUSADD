{
 "cells": [
  {
   "cell_type": "code",
   "execution_count": null,
   "metadata": {},
   "outputs": [],
   "source": [
    "import pandas as pd\n",
    "import numpy as np\n",
    "import mayavi as mayax\n",
    "from mayavi import mlab\n",
    "from functools import partial\n",
    "import tables as tb\n",
    "import sys\n",
    "sys.path.append(\"../../\")\n",
    "from focusadd.coils.CoilSet import CoilSet\n",
    "mlab.init_notebook('x3d', 800, 800)"
   ]
  },
  {
   "cell_type": "code",
   "execution_count": null,
   "metadata": {},
   "outputs": [],
   "source": [
    "def read_w7x_data():\n",
    "    r_surf = np.load(\"../../focusadd/surface/w7x_r_surf.npy\")\n",
    "    nn = np.load(\"../../focusadd/surface/w7x_nn_surf.npy\")\n",
    "    sg = np.load(\"../../focusadd/surface/w7x_sg_surf.npy\")\n",
    "    fc_init = np.load(\"../../focusadd/surface/w7x_fc.npy\")\n",
    "    return r_surf, nn, sg, fc_init"
   ]
  },
  {
   "cell_type": "code",
   "execution_count": null,
   "metadata": {},
   "outputs": [],
   "source": [
    "def plot_surface(r):\n",
    "    x = r[:,:,0]\n",
    "    y = r[:,:,1]\n",
    "    z = r[:,:,2]\n",
    "    p = mlab.mesh(x,y,z,color=(0.8,0.0,0.0))\n",
    "    return p\n",
    "def get_coil_data():\n",
    "    NC = 50\n",
    "    NS = 96\n",
    "    NFC = 10\n",
    "    NFR = 3\n",
    "    ln = 0.07\n",
    "    lb = 0.07\n",
    "    NNR = 2\n",
    "    NBR = 2\n",
    "    rc = 2.0\n",
    "    NR = 0\n",
    "    return NC, NS, NFC, NFR, ln, lb, NNR, NBR, rc, NR\n",
    "def get_all_coil_data(filename):\n",
    "    coil_data = get_coil_data()\n",
    "    with tb.open_file(filename, \"r\") as f:\n",
    "        coil_data = f.root.metadata[0]\n",
    "        fc = np.asarray(f.root.coilSeries[:, :, :])\n",
    "        fr = np.asarray(f.root.rotationSeries[:, :]) # NEEDS TO BE EDITED\n",
    "        params = (fc, fr)\n",
    "    return coil_data, params\n",
    "    "
   ]
  },
  {
   "cell_type": "code",
   "execution_count": null,
   "metadata": {},
   "outputs": [],
   "source": [
    "    def compute_r_centroid(NS, fc):\n",
    "        theta = np.linspace(0, 2 * np.pi, NS + 1)\n",
    "        NC = fc.shape[1]\n",
    "        NF = fc.shape[2]\n",
    "        xc = fc[0]\n",
    "        yc = fc[1]\n",
    "        zc = fc[2]\n",
    "        xs = fc[3]\n",
    "        ys = fc[4]\n",
    "        zs = fc[5]\n",
    "        x = np.zeros((NC, NS + 1))\n",
    "        y = np.zeros((NC, NS + 1))\n",
    "        z = np.zeros((NC, NS + 1))\n",
    "        for m in range(NF):\n",
    "            arg = m * theta\n",
    "            carg = np.cos(arg)\n",
    "            sarg = np.sin(arg)\n",
    "            x += (\n",
    "                xc[:, np.newaxis, m] * carg[np.newaxis, :]\n",
    "                + xs[:, np.newaxis, m] * sarg[np.newaxis, :]\n",
    "            )\n",
    "            y += (\n",
    "                yc[:, np.newaxis, m] * carg[np.newaxis, :]\n",
    "                + ys[:, np.newaxis, m] * sarg[np.newaxis, :]\n",
    "            )\n",
    "            z += (\n",
    "                zc[:, np.newaxis, m] * carg[np.newaxis, :]\n",
    "                + zs[:, np.newaxis, m] * sarg[np.newaxis, :]\n",
    "            )\n",
    "        return np.concatenate(\n",
    "            (x[:, :, np.newaxis], y[:, :, np.newaxis], z[:, :, np.newaxis]), axis=2\n",
    "        )"
   ]
  },
  {
   "cell_type": "code",
   "execution_count": null,
   "metadata": {},
   "outputs": [],
   "source": [
    "def plot_coils_centroid(r_coils, color=(0.0, 0.0, 0.8)):\n",
    "    for ic in range(r_coils.shape[0]):\n",
    "        p = mlab.plot3d(r_coils[ic,:,0], r_coils[ic,:,1], r_coils[ic,:,2], tube_radius=0.02, color = color)#, line_width = 0.01,)\n",
    "    return p\n",
    "def plot_coils(r_coils, color=(0.0, 0.0, 0.8)):\n",
    "    for ic in range(r_coils.shape[0]):\n",
    "        for n in range(r_coils.shape[2]):\n",
    "            for b in range(r_coils.shape[3]):\n",
    "                p = mlab.plot3d(r_coils[ic,:,n,b,0], r_coils[ic,:,n,b,1], r_coils[ic,:,n,b,2], tube_radius=0.02, color = color)#, line_width = 0.01,)\n",
    "    return p"
   ]
  },
  {
   "cell_type": "code",
   "execution_count": null,
   "metadata": {},
   "outputs": [],
   "source": [
    "mlab.clf()\n",
    "NS = 96\n",
    "r_surf, nn, sg, fc_init = read_w7x_data()\n",
    "p = plot_surface(r_surf)\n",
    "r_c = compute_r_centroid(NS, fc_init)\n",
    "p = plot_coils_centroid(r_c)\n",
    "mlab.view(azimuth=0.0, elevation=180, distance=30.0, focalpoint=(0.0,0.0,0.0), roll=None, reset_roll=True, figure=None)\n",
    "p"
   ]
  },
  {
   "cell_type": "code",
   "execution_count": null,
   "metadata": {
    "scrolled": false
   },
   "outputs": [],
   "source": [
    "coil_data_fil, params_fil = get_all_coil_data(\"w7x_fil.hdf5\")\n",
    "_, _, r_fil, _ = CoilSet.get_outputs(coil_data_fil, params_fil)\n",
    "centroid_fil = CoilSet.get_r_centroid(coil_data_fil, params_fil)\n",
    "coil_data_fb, params_fb = get_all_coil_data(\"w7x_fb.hdf5\")\n",
    "_, _, r_fb, _ = CoilSet.get_outputs(coil_data_fb, params_fb)\n",
    "centroid_fb = CoilSet.get_r_centroid(coil_data_fb, params_fb)\n",
    "coil_data_rot, params_rot = get_all_coil_data(\"w7x_rot.hdf5\")\n",
    "_, _, r_rot, _ = CoilSet.get_outputs(coil_data_rot, params_rot)\n",
    "centroid_rot = CoilSet.get_r_centroid(coil_data_rot, params_rot)"
   ]
  },
  {
   "cell_type": "code",
   "execution_count": null,
   "metadata": {},
   "outputs": [],
   "source": [
    "mlab.clf()\n",
    "NS = 96\n",
    "r_surf, nn, sg, _ = read_w7x_data()\n",
    "p = plot_surface(r_surf)\n",
    "#r_c = compute_r_centroid(NS, fc_init)\n",
    "#p = plot_coils(r_fil, color=(0.8,0.0,0.0))\n",
    "#p = plot_coils(r_fb, color=(0.0,0.0,0.8))\n",
    "p = plot_coils(r_rot, color=(0.0,0.0,0.8))\n",
    "mlab.view(azimuth=0.0, elevation=180, distance=30.0, focalpoint=(0.0,0.0,0.0), roll=None, reset_roll=True, figure=None)\n",
    "p"
   ]
  },
  {
   "cell_type": "code",
   "execution_count": null,
   "metadata": {
    "scrolled": false
   },
   "outputs": [],
   "source": [
    "mlab.clf()\n",
    "NS = 96\n",
    "L = 0\n",
    "U = 5\n",
    "r_surf, nn, sg, _ = read_w7x_data()\n",
    "#p = plot_surface(r_surf)\n",
    "#r_c = compute_r_centroid(NS, fc_init)\n",
    "p = plot_coils_centroid(centroid_fil[L:U], color=(0.8,0.0,0.0))\n",
    "p = plot_coils_centroid(centroid_fb[L:U], color=(0.0,0.0,0.8))\n",
    "mlab.view(azimuth=30.0, elevation=90, distance=8.0, focalpoint=(5.5,1.8,0.0), roll=None, reset_roll=True, figure=None)\n",
    "#p = plot_coils_centroid(centroid_rot[L:U], color=(0.0,0.8,0.0))\n",
    "p"
   ]
  },
  {
   "cell_type": "code",
   "execution_count": null,
   "metadata": {},
   "outputs": [],
   "source": [
    "print(centroid_fil[2])"
   ]
  },
  {
   "cell_type": "code",
   "execution_count": null,
   "metadata": {},
   "outputs": [],
   "source": [
    "mlab.savefig('coils_example.pdf')"
   ]
  },
  {
   "cell_type": "code",
   "execution_count": null,
   "metadata": {},
   "outputs": [],
   "source": [
    "from mayavi import mlab\n",
    "mlab.clf()\n",
    "p = mlab.test_contour3d()\n",
    "p\n",
    "mlab.savefig('example.png')"
   ]
  },
  {
   "cell_type": "code",
   "execution_count": null,
   "metadata": {},
   "outputs": [],
   "source": [
    "import pandas as pd\n",
    "import numpy as np\n",
    "import mayavi as maya\n",
    "from mayavi import mlab\n",
    "from functools import partial\n",
    "import tables as tb\n",
    "import sys\n",
    "sys.path.append(\"../../\")\n",
    "from focusadd.coils.CoilSet import CoilSet\n",
    "mlab.figure(figure=None, bgcolor=(1,1,1), fgcolor=None, engine=None, size=(800, 800))"
   ]
  },
  {
   "cell_type": "code",
   "execution_count": null,
   "metadata": {},
   "outputs": [],
   "source": []
  }
 ],
 "metadata": {
  "kernelspec": {
   "display_name": "Python 3",
   "language": "python",
   "name": "python3"
  },
  "language_info": {
   "codemirror_mode": {
    "name": "ipython",
    "version": 3
   },
   "file_extension": ".py",
   "mimetype": "text/x-python",
   "name": "python",
   "nbconvert_exporter": "python",
   "pygments_lexer": "ipython3",
   "version": "3.7.7"
  }
 },
 "nbformat": 4,
 "nbformat_minor": 4
}
