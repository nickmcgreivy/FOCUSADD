{
 "cells": [
  {
   "cell_type": "code",
   "execution_count": null,
   "metadata": {},
   "outputs": [],
   "source": [
    "import pandas as pd\n",
    "import numpy as np\n",
    "import mayavi as maya\n",
    "from mayavi import mlab\n",
    "from functools import partial\n",
    "import tables as tb\n",
    "import sys\n",
    "sys.path.append(\"../../\")\n",
    "from focusadd.coils.CoilSet import CoilSet\n",
    "mlab.init_notebook('x3d', 800, 800)"
   ]
  },
  {
   "cell_type": "code",
   "execution_count": null,
   "metadata": {},
   "outputs": [],
   "source": [
    "def read_w7x_data():\n",
    "    r_surf = np.load(\"../../focusadd/surface/w7x_r_surf.npy\")\n",
    "    nn = np.load(\"../../focusadd/surface/w7x_nn_surf.npy\")\n",
    "    sg = np.load(\"../../focusadd/surface/w7x_sg_surf.npy\")\n",
    "    fc_init = np.load(\"../../focusadd/surface/w7x_fc.npy\")\n",
    "    return r_surf, nn, sg, fc_init"
   ]
  },
  {
   "cell_type": "code",
   "execution_count": null,
   "metadata": {},
   "outputs": [],
   "source": [
    "def plot_surface(r):\n",
    "    x = r[:,:,0]\n",
    "    y = r[:,:,1]\n",
    "    z = r[:,:,2]\n",
    "    p = mlab.mesh(x,y,z,color=(0.8,0.0,0.0))\n",
    "    return p\n",
    "def get_coil_data():\n",
    "    NC = 50\n",
    "    NS = 96\n",
    "    NFC = 6\n",
    "    NFR = 0\n",
    "    ln = 0.015\n",
    "    lb = 0.015\n",
    "    NNR = 1\n",
    "    NBR = 1\n",
    "    rc = 2.0\n",
    "    NR = 0\n",
    "    return NC, NS, NFC, NFR, ln, lb, NNR, NBR, rc, NR\n",
    "def get_all_coil_data(filename):\n",
    "    coil_data = get_coil_data()\n",
    "    with tb.open_file(filename, \"r\") as f:\n",
    "        (NC, NS, NF, NFR, ln, lb, NNR, NBR, rc, NR,) = f.root.metadata[0]\n",
    "        fc = np.asarray(f.root.coilSeries[:, :, :])\n",
    "        fr = np.asarray(f.root.rotationSeries[:, :]) # NEEDS TO BE EDITED\n",
    "        params = (fc, fr)\n",
    "    return coil_data, params\n",
    "    "
   ]
  },
  {
   "cell_type": "code",
   "execution_count": null,
   "metadata": {},
   "outputs": [],
   "source": [
    "    def compute_r_centroid(NS, fc):\n",
    "        theta = np.linspace(0, 2 * np.pi, NS + 1)\n",
    "        NC = fc.shape[1]\n",
    "        NF = fc.shape[2]\n",
    "        xc = fc[0]\n",
    "        yc = fc[1]\n",
    "        zc = fc[2]\n",
    "        xs = fc[3]\n",
    "        ys = fc[4]\n",
    "        zs = fc[5]\n",
    "        x = np.zeros((NC, NS + 1))\n",
    "        y = np.zeros((NC, NS + 1))\n",
    "        z = np.zeros((NC, NS + 1))\n",
    "        for m in range(NF):\n",
    "            arg = m * theta\n",
    "            carg = np.cos(arg)\n",
    "            sarg = np.sin(arg)\n",
    "            x += (\n",
    "                xc[:, np.newaxis, m] * carg[np.newaxis, :]\n",
    "                + xs[:, np.newaxis, m] * sarg[np.newaxis, :]\n",
    "            )\n",
    "            y += (\n",
    "                yc[:, np.newaxis, m] * carg[np.newaxis, :]\n",
    "                + ys[:, np.newaxis, m] * sarg[np.newaxis, :]\n",
    "            )\n",
    "            z += (\n",
    "                zc[:, np.newaxis, m] * carg[np.newaxis, :]\n",
    "                + zs[:, np.newaxis, m] * sarg[np.newaxis, :]\n",
    "            )\n",
    "        return np.concatenate(\n",
    "            (x[:, :, np.newaxis], y[:, :, np.newaxis], z[:, :, np.newaxis]), axis=2\n",
    "        )"
   ]
  },
  {
   "cell_type": "code",
   "execution_count": null,
   "metadata": {},
   "outputs": [],
   "source": [
    "def plot_coils_centroid(r_coils, color=(0.0, 0.0, 0.8)):\n",
    "    for ic in range(r_coils.shape[0]):\n",
    "        p = mlab.plot3d(r_coils[ic,:,0], r_coils[ic,:,1], r_coils[ic,:,2], tube_radius=0.02, color = color)#, line_width = 0.01,)\n",
    "    return p\n",
    "def plot_coils(r_coils, color=(0.0, 0.0, 0.8)):\n",
    "    for ic in range(r_coils.shape[0]):\n",
    "        for n in range(r_coils.shape[2]):\n",
    "            for b in range(r_coils.shape[3]):\n",
    "                p = mlab.plot3d(r_coils[ic,:,n,b,0], r_coils[ic,:,n,b,1], r_coils[ic,:,n,b,2], tube_radius=0.02, color = color)#, line_width = 0.01,)\n",
    "    return p"
   ]
  },
  {
   "cell_type": "code",
   "execution_count": null,
   "metadata": {},
   "outputs": [],
   "source": [
    "mlab.clf()\n",
    "NS = 96\n",
    "r_surf, nn, sg, fc_init = read_w7x_data()\n",
    "p = plot_surface(r_surf)\n",
    "r_c = compute_r_centroid(NS, fc_init)\n",
    "p = plot_coils_centroid(r_c)\n",
    "p"
   ]
  },
  {
   "cell_type": "code",
   "execution_count": null,
   "metadata": {
    "scrolled": false
   },
   "outputs": [],
   "source": [
    "coil_data_fil, params_fil = get_all_coil_data(\"w7xTest.hdf5\")\n",
    "_, _, r_fil, _ = CoilSet.get_outputs(coil_data_fil, params_fil)\n",
    "mlab.clf()\n",
    "NS = 96\n",
    "r_surf, nn, sg, fc_init = read_w7x_data()\n",
    "p = plot_surface(r_surf)\n",
    "r_c = compute_r_centroid(NS, fc_init)\n",
    "p = plot_coils_centroid(r_c)\n",
    "p = plot_coils(r_fil, color=(0.0,0.8,0.0))\n",
    "p"
   ]
  },
  {
   "cell_type": "code",
   "execution_count": null,
   "metadata": {},
   "outputs": [],
   "source": []
  },
  {
   "cell_type": "code",
   "execution_count": null,
   "metadata": {},
   "outputs": [],
   "source": []
  }
 ],
 "metadata": {
  "kernelspec": {
   "display_name": "Python 3",
   "language": "python",
   "name": "python3"
  },
  "language_info": {
   "codemirror_mode": {
    "name": "ipython",
    "version": 3
   },
   "file_extension": ".py",
   "mimetype": "text/x-python",
   "name": "python",
   "nbconvert_exporter": "python",
   "pygments_lexer": "ipython3",
   "version": "3.7.7"
  }
 },
 "nbformat": 4,
 "nbformat_minor": 4
}
