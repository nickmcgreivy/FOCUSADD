{
 "cells": [
  {
   "cell_type": "code",
   "execution_count": null,
   "metadata": {},
   "outputs": [],
   "source": [
    "import sys\n",
    "sys.path.append(\"../../\")\n",
    "import csv\n",
    "import matplotlib.pyplot as plt\n",
    "import numpy as np\n",
    "import focusadd\n",
    "from focusadd.surface.Surface import Surface\n",
    "from focusadd.coils.CoilSet import CoilSet\n",
    "from focusadd.lossFunctions.DefaultLoss import default_loss\n",
    "import numpy as np\n",
    "import mayavi as maya\n",
    "from mayavi import mlab\n",
    "from functools import partial\n",
    "mlab.init_notebook('x3d',800,800)"
   ]
  },
  {
   "cell_type": "code",
   "execution_count": null,
   "metadata": {},
   "outputs": [],
   "source": [
    "def draw_surface(surface):\n",
    "    r = surface.get_r()\n",
    "    x = r[:,:,0]\n",
    "    y = r[:,:,1]\n",
    "    z = r[:,:,2]\n",
    "    p = mlab.mesh(x,y,z,color=(0.8,0.0,0.0))\n",
    "    return p\n",
    "\n",
    "def draw_r_centroid(r_central, color = \"blue\"):\n",
    "    if color.lower() == \"blue\":\n",
    "        tup = (0.0, 0.0, 0.8)\n",
    "    elif color.lower() == \"red\":\n",
    "        tup = (0.8, 0.0, 0.0)\n",
    "    else:\n",
    "        tup = (0.0, 0.8, 0.0)\n",
    "    for ic in range(r_central.shape[0]):\n",
    "        p = mlab.plot3d(r_central[ic,:,0], r_central[ic,:,1], r_central[ic,:,2], tube_radius = 0.004, line_width = 0.01, color = tup)\n",
    "    return p\n",
    "\n",
    "def draw_coils(r_coils, color = \"blue\"):\n",
    "    if color.lower() == \"blue\":\n",
    "        tup = (0.0, 0.0, 0.8)\n",
    "    elif color.lower() == \"red\":\n",
    "        tup = (0.8, 0.0, 0.0)\n",
    "    else:\n",
    "        tup = (0.0, 0.8, 0.0)\n",
    "    for ic in range(r_coils.shape[0]):\n",
    "        for n in range(r_coils.shape[2]):\n",
    "            for b in range(r_coils.shape[3]):\n",
    "                p = mlab.plot3d(r_coils[ic,:,n,b,0], r_coils[ic,:,n,b,1], r_coils[ic,:,n,b,2], tube_radius = 0.004, line_width = 0.01, color = tup)\n",
    "    return p"
   ]
  },
  {
   "cell_type": "code",
   "execution_count": null,
   "metadata": {},
   "outputs": [],
   "source": [
    "surface = Surface(\"../../focusadd/initFiles/axes/ellipticalAxis4Rotate.txt\", 128, 32, 1.0)"
   ]
  },
  {
   "cell_type": "code",
   "execution_count": null,
   "metadata": {},
   "outputs": [],
   "source": [
    "coil_data_fil, params_fil = CoilSet.get_initial_data(surface, input_file=\"filament.hdf5\")\n",
    "_, _, r_fil, _, l_fil = CoilSet.get_outputs(coil_data_fil, False, params_fil)\n",
    "r_centroid_fil = CoilSet.get_r_centroid(coil_data_fil, False, params_fil)"
   ]
  },
  {
   "cell_type": "code",
   "execution_count": null,
   "metadata": {},
   "outputs": [],
   "source": [
    "coil_data_fb, params_fb = CoilSet.get_initial_data(surface, input_file=\"fixed_finite_build.hdf5\")\n",
    "_, _, r_fb, _, l_fb = CoilSet.get_outputs(coil_data_fb, False, params_fb)\n",
    "r_centroid_fb = CoilSet.get_r_centroid(coil_data_fb, False, params_fb)"
   ]
  },
  {
   "cell_type": "code",
   "execution_count": null,
   "metadata": {},
   "outputs": [],
   "source": [
    "coil_data_rot, params_rot = CoilSet.get_initial_data(surface, input_file=\"rotate_finite_build.hdf5\")\n",
    "_, _, r_rot, _, l_rot = CoilSet.get_outputs(coil_data_rot, False, params_rot)\n",
    "r_centroid_rot = CoilSet.get_r_centroid(coil_data_rot, False, params_rot)"
   ]
  },
  {
   "cell_type": "markdown",
   "metadata": {},
   "source": [
    "# Filamentary Coils"
   ]
  },
  {
   "cell_type": "code",
   "execution_count": null,
   "metadata": {},
   "outputs": [],
   "source": [
    "mlab.clf()\n",
    "p = draw_surface(surface)\n",
    "p = draw_coils(r_fil, color=\"blue\")\n",
    "p"
   ]
  },
  {
   "cell_type": "markdown",
   "metadata": {},
   "source": [
    "# Finite Build Coils, No Rotation"
   ]
  },
  {
   "cell_type": "code",
   "execution_count": null,
   "metadata": {},
   "outputs": [],
   "source": [
    "mlab.clf()\n",
    "p = draw_surface(surface)\n",
    "p = draw_coils(r_fb, color=\"red\")\n",
    "p"
   ]
  },
  {
   "cell_type": "markdown",
   "metadata": {},
   "source": [
    "# Finite Build Coils, With Rotation"
   ]
  },
  {
   "cell_type": "code",
   "execution_count": null,
   "metadata": {},
   "outputs": [],
   "source": [
    "mlab.clf()\n",
    "p = draw_surface(surface)\n",
    "p = draw_coils(r_rot, color=\"green\")\n",
    "p"
   ]
  },
  {
   "cell_type": "markdown",
   "metadata": {},
   "source": [
    "# (i) Loss Value Comparison"
   ]
  },
  {
   "cell_type": "code",
   "execution_count": null,
   "metadata": {},
   "outputs": [],
   "source": [
    "fil_f = \"filament.txt\"\n",
    "fb_f = \"fixed_finite_build.txt\"\n",
    "rot_f = \"rotate_finite_build.txt\""
   ]
  },
  {
   "cell_type": "code",
   "execution_count": null,
   "metadata": {},
   "outputs": [],
   "source": [
    "with open(fil_f, 'r') as f:\n",
    "    reader = csv.reader(f, delimiter=',')\n",
    "    fil_loss = next(reader)\n",
    "loss_fil_arr = [float(l) for l in fil_loss]\n",
    "loss_fil = loss_fil_arr[-1]"
   ]
  },
  {
   "cell_type": "code",
   "execution_count": null,
   "metadata": {},
   "outputs": [],
   "source": [
    "with open(fb_f, 'r') as f:\n",
    "    reader = csv.reader(f, delimiter=',')\n",
    "    fb_loss = next(reader)\n",
    "loss_fb_arr = [float(l) for l in fb_loss]\n",
    "loss_fb = loss_fb_arr[-1]"
   ]
  },
  {
   "cell_type": "code",
   "execution_count": null,
   "metadata": {},
   "outputs": [],
   "source": [
    "with open(rot_f, 'r') as f:\n",
    "    reader = csv.reader(f, delimiter=',')\n",
    "    rot_loss = next(reader)\n",
    "loss_rot_arr = [float(l) for l in rot_loss]\n",
    "loss_rot = loss_rot_arr[-1]"
   ]
  },
  {
   "cell_type": "code",
   "execution_count": null,
   "metadata": {},
   "outputs": [],
   "source": [
    "plt.plot(loss_fil_arr)\n",
    "plt.plot(loss_fb_arr)\n",
    "#plt.plot(loss_rot_arr)\n",
    "plt.yscale('log')\n",
    "plt.ylim([0.25, 1])\n",
    "plt.show()"
   ]
  },
  {
   "cell_type": "markdown",
   "metadata": {},
   "source": [
    "The difference is tiny."
   ]
  },
  {
   "cell_type": "markdown",
   "metadata": {},
   "source": [
    "# (ii) How much does the coil centroid differ across plots?"
   ]
  },
  {
   "cell_type": "markdown",
   "metadata": {},
   "source": [
    "Plotting filamentary versus finite-build, no rotate. The filamentary coils are slightly further from the plasma here."
   ]
  },
  {
   "cell_type": "code",
   "execution_count": null,
   "metadata": {
    "scrolled": false
   },
   "outputs": [],
   "source": [
    "mlab.clf()\n",
    "p = draw_surface(surface)\n",
    "p = draw_r_centroid(r_centroid_fil, color=\"blue\")\n",
    "p = draw_r_centroid(r_centroid_fb, color=\"red\")\n",
    "p"
   ]
  },
  {
   "cell_type": "markdown",
   "metadata": {},
   "source": [
    "Because theta is defined by the axis here, I believe we can actually subtract the two coil sets and take the maximum to get an answer of what the average magnitude of separation is (and what the maximum separation is). "
   ]
  },
  {
   "cell_type": "code",
   "execution_count": null,
   "metadata": {},
   "outputs": [],
   "source": [
    "diff = r_centroid_fil - r_centroid_fb\n",
    "abs = np.absolute(diff)\n",
    "print(np.mean(abs))\n",
    "print(np.max(abs))"
   ]
  },
  {
   "cell_type": "markdown",
   "metadata": {},
   "source": [
    "The stellarator has a characteristic major radius of 1.0 and minor radius of 0.1, so the average displacement is about 0.3mm for a 1m device. For a major radius 5.5m device (W7-X) this is about 1.5mm on average. The maximum displacement is about 1.1mm for a 1m device, so about 6mm for a 5.5m device. The key question though is how much does this change the quadratic flux. I'll look at this in a moment. "
   ]
  },
  {
   "cell_type": "markdown",
   "metadata": {},
   "source": [
    "Plotting finite-build, no rotate versus finite-build, w/ rotate"
   ]
  },
  {
   "cell_type": "code",
   "execution_count": null,
   "metadata": {},
   "outputs": [],
   "source": [
    "mlab.clf()\n",
    "p = draw_surface(surface)\n",
    "p = draw_r_centroid(r_centroid_fb, color=\"red\")\n",
    "p = draw_r_centroid(r_centroid_rot, color=\"green\")\n",
    "p"
   ]
  },
  {
   "cell_type": "markdown",
   "metadata": {},
   "source": [
    "# (iii) What is rotation profile for square coils?"
   ]
  },
  {
   "cell_type": "markdown",
   "metadata": {},
   "source": [
    "How much does the rotation profile change across plots? Here I plot fb with no rotation versus rb with rotation"
   ]
  },
  {
   "cell_type": "code",
   "execution_count": null,
   "metadata": {},
   "outputs": [],
   "source": [
    "mlab.clf()\n",
    "p = draw_surface(surface)\n",
    "p = draw_coils(r_fb, color=\"red\")\n",
    "p = draw_coils(r_rot, color=\"green\")\n",
    "p"
   ]
  },
  {
   "cell_type": "code",
   "execution_count": null,
   "metadata": {},
   "outputs": [],
   "source": [
    "fc_fb, fr_fb = params_fb\n",
    "fc_rot, fr_rot = params_rot\n",
    "print(np.amax(fr_rot))\n",
    "print(np.linalg.norm(fr_rot))"
   ]
  },
  {
   "cell_type": "markdown",
   "metadata": {},
   "source": [
    "Not very much rotation. I'll test non-square coils in a later notebook."
   ]
  },
  {
   "cell_type": "markdown",
   "metadata": {},
   "source": [
    "# (iv) The physics loss versus the weight loss"
   ]
  },
  {
   "cell_type": "markdown",
   "metadata": {},
   "source": [
    "These comparisons are hard to make. I should eventually divide the weight loss by number of coils, to keep things consistent. I'll also want to divide by the B^2 flux for when the number of coils is different, but for fixed coil comparisons this works fine. For now we'll look at it as is."
   ]
  },
  {
   "cell_type": "code",
   "execution_count": null,
   "metadata": {},
   "outputs": [],
   "source": [
    "w_L = 0.1\n",
    "w_B = 1e3\n",
    "w_args = (w_B, w_L)\n",
    "surface_data = (surface.get_r_central(), surface.get_nn(), surface.get_sg())\n",
    "coil_output_func_fil = partial(CoilSet.get_outputs, coil_data_fil, False)\n",
    "loss_fil = default_loss(surface_data, coil_output_func_fil, w_args, params_fil)\n",
    "coil_output_func_fb = partial(CoilSet.get_outputs, coil_data_fb, False)\n",
    "loss_fb = default_loss(surface_data, coil_output_func_fb, w_args, params_fb)\n",
    "f_b_fil = loss_fil - w_L * l_fil\n",
    "f_b_fb = loss_fb - w_L * l_fb\n",
    "print(loss_fil)\n",
    "print(loss_fb)\n",
    "print(l_fil)\n",
    "print(l_fb)\n",
    "print(f_b_fil)\n",
    "print(f_b_fb)"
   ]
  },
  {
   "cell_type": "markdown",
   "metadata": {},
   "source": [
    "So the filamentary coils have a slightly longer length but slightly less quadratic flux. Now, the question to ask is: what is the quadratic flux *if* the filamentary coils were built with finite-build? Let's create new params with the centroid values from fil, and the rotation values of zero. Then let's see what they look like."
   ]
  },
  {
   "cell_type": "code",
   "execution_count": null,
   "metadata": {},
   "outputs": [],
   "source": [
    "fc, _ = params_fil\n",
    "_, fr = params_fb\n",
    "params_new = fc, fr\n",
    "coil_data_new = coil_data_fb\n",
    "_, _, r_new, _, l_new = CoilSet.get_outputs(coil_data_new, False, params_new)\n",
    "r_centroid_new = CoilSet.get_r_centroid(coil_data_new, False, params_new)"
   ]
  },
  {
   "cell_type": "code",
   "execution_count": null,
   "metadata": {},
   "outputs": [],
   "source": [
    "surface_data = (surface.get_r_central(), surface.get_nn(), surface.get_sg())\n",
    "coil_output_func = partial(CoilSet.get_outputs, coil_data_new, False)\n",
    "loss_new = default_loss(surface_data, coil_output_func, w_args, params_new)"
   ]
  },
  {
   "cell_type": "code",
   "execution_count": null,
   "metadata": {},
   "outputs": [],
   "source": [
    "print(loss_new)\n",
    "print(loss_fil)\n",
    "f_b_new = loss_new - w_L * l_new\n",
    "print(l_new)\n",
    "print(l_fb)\n",
    "print(f_b_new)\n",
    "print(f_b_fb)"
   ]
  },
  {
   "cell_type": "code",
   "execution_count": null,
   "metadata": {},
   "outputs": [],
   "source": [
    "mlab.clf()\n",
    "p = draw_surface(surface)\n",
    "p = draw_coils(r_new, color=\"blue\")\n",
    "p = draw_coils(r_fb, color=\"red\")\n",
    "p"
   ]
  },
  {
   "cell_type": "markdown",
   "metadata": {},
   "source": [
    "I see what's happening. The blue coils (filamentary) are relatively further from the plasma, so the quadratic flux is lower. A couple things need to happen to resolve this: the quadratic flux needs to be divided by B^2. The length needs to be divided by the number of coils. The length also needs to not depend on NC and NB, only the coil centroid. This way it is consistent between FB and FIL coils."
   ]
  },
  {
   "cell_type": "markdown",
   "metadata": {},
   "source": [
    "# What happens if I increase the surface resolution? Does this change my loss function values?"
   ]
  },
  {
   "cell_type": "markdown",
   "metadata": {},
   "source": [
    "Let's start with the default surface and get a loss value."
   ]
  },
  {
   "cell_type": "code",
   "execution_count": null,
   "metadata": {},
   "outputs": [],
   "source": [
    "surface = Surface(\"../../focusadd/initFiles/axes/ellipticalAxis4Rotate.txt\", 128, 32, 1.0)"
   ]
  },
  {
   "cell_type": "code",
   "execution_count": null,
   "metadata": {},
   "outputs": [],
   "source": [
    "coil_data_fil, params_fil = CoilSet.get_initial_data(surface, input_file=\"filament.hdf5\")\n",
    "_, _, r_fil, _, l_fil = CoilSet.get_outputs(coil_data_fil, False, params_fil)\n",
    "r_centroid_fil = CoilSet.get_r_centroid(coil_data_fil, False, params_fil)\n",
    "w_L = 0.1\n",
    "w_B = 1e3\n",
    "w_args = (w_B, w_L)\n",
    "surface_data = (surface.get_r_central(), surface.get_nn(), surface.get_sg())\n",
    "coil_output_func_fil = partial(CoilSet.get_outputs, coil_data_fil, False)\n",
    "loss_fil = default_loss(surface_data, coil_output_func_fil, w_args, params_fil)\n",
    "print(loss_fil)"
   ]
  },
  {
   "cell_type": "markdown",
   "metadata": {},
   "source": [
    "Now what happens if I increase the resolution by 2 in each direction?"
   ]
  },
  {
   "cell_type": "code",
   "execution_count": null,
   "metadata": {},
   "outputs": [],
   "source": [
    "surface = Surface(\"../../focusadd/initFiles/axes/ellipticalAxis4Rotate.txt\", 256, 64, 1.0)\n",
    "coil_data_fil, params_fil = CoilSet.get_initial_data(surface, input_file=\"filament.hdf5\")\n",
    "_, _, r_fil, _, l_fil = CoilSet.get_outputs(coil_data_fil, False, params_fil)\n",
    "r_centroid_fil = CoilSet.get_r_centroid(coil_data_fil, False, params_fil)\n",
    "w_L = 0.1\n",
    "w_B = 1e3\n",
    "w_args = (w_B, w_L)\n",
    "surface_data = (surface.get_r_central(), surface.get_nn(), surface.get_sg())\n",
    "coil_output_func_fil = partial(CoilSet.get_outputs, coil_data_fil, False)\n",
    "loss_fil = default_loss(surface_data, coil_output_func_fil, w_args, params_fil)\n",
    "print(loss_fil)"
   ]
  },
  {
   "cell_type": "markdown",
   "metadata": {},
   "source": [
    "Yikes! Goes up by a lot. Let's check w/ a resolution of 4 in each direction."
   ]
  },
  {
   "cell_type": "code",
   "execution_count": null,
   "metadata": {},
   "outputs": [],
   "source": [
    "surface = Surface(\"../../focusadd/initFiles/axes/ellipticalAxis4Rotate.txt\", 512, 128, 1.0)\n",
    "coil_data_fil, params_fil = CoilSet.get_initial_data(surface, input_file=\"filament.hdf5\")\n",
    "_, _, r_fil, _, l_fil = CoilSet.get_outputs(coil_data_fil, False, params_fil)\n",
    "r_centroid_fil = CoilSet.get_r_centroid(coil_data_fil, False, params_fil)\n",
    "w_L = 0.1\n",
    "w_B = 1e3\n",
    "w_args = (w_B, w_L)\n",
    "surface_data = (surface.get_r_central(), surface.get_nn(), surface.get_sg())\n",
    "coil_output_func_fil = partial(CoilSet.get_outputs, coil_data_fil, False)\n",
    "loss_fil = default_loss(surface_data, coil_output_func_fil, w_args, params_fil)\n",
    "print(loss_fil)"
   ]
  },
  {
   "cell_type": "code",
   "execution_count": null,
   "metadata": {},
   "outputs": [],
   "source": [
    "surface = Surface(\"../../focusadd/initFiles/axes/ellipticalAxis4Rotate.txt\", 1024, 64, 1.0)\n",
    "coil_data_fil, params_fil = CoilSet.get_initial_data(surface, input_file=\"filament.hdf5\")\n",
    "_, _, r_fil, _, l_fil = CoilSet.get_outputs(coil_data_fil, False, params_fil)\n",
    "r_centroid_fil = CoilSet.get_r_centroid(coil_data_fil, False, params_fil)\n",
    "w_L = 0.1\n",
    "w_B = 1e3\n",
    "w_args = (w_B, w_L)\n",
    "surface_data = (surface.get_r_central(), surface.get_nn(), surface.get_sg())\n",
    "coil_output_func_fil = partial(CoilSet.get_outputs, coil_data_fil, False)\n",
    "loss_fil = default_loss(surface_data, coil_output_func_fil, w_args, params_fil)\n",
    "print(loss_fil)"
   ]
  },
  {
   "cell_type": "code",
   "execution_count": null,
   "metadata": {},
   "outputs": [],
   "source": []
  }
 ],
 "metadata": {
  "kernelspec": {
   "display_name": "Python 3",
   "language": "python",
   "name": "python3"
  },
  "language_info": {
   "codemirror_mode": {
    "name": "ipython",
    "version": 3
   },
   "file_extension": ".py",
   "mimetype": "text/x-python",
   "name": "python",
   "nbconvert_exporter": "python",
   "pygments_lexer": "ipython3",
   "version": "3.7.7"
  }
 },
 "nbformat": 4,
 "nbformat_minor": 4
}
