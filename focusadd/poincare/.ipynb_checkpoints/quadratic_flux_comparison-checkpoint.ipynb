{
 "cells": [
  {
   "cell_type": "code",
   "execution_count": null,
   "metadata": {},
   "outputs": [],
   "source": [
    "import sys\n",
    "sys.path.append(\"../../focusadd/\")\n",
    "import csv\n",
    "import matplotlib.pyplot as plt\n",
    "import numpy as np\n",
    "from surface.Surface import Surface\n",
    "from coils.CoilSet import CoilSet\n",
    "from lossFunctions.DefaultLoss import default_loss\n",
    "import numpy as np\n",
    "import mayavi as maya\n",
    "from mayavi import mlab\n",
    "from functools import partial\n",
    "mlab.init_notebook('x3d',800,800)"
   ]
  },
  {
   "cell_type": "code",
   "execution_count": null,
   "metadata": {},
   "outputs": [],
   "source": [
    "surface = Surface(\"../../focusadd/initFiles/axes/ellipticalAxis4Rotate.txt\", 128, 32, 1.0)\n",
    "coil_data_fb, params_fb = CoilSet.get_initial_data(surface, input_file=\"both.hdf5\")\n",
    "_, _, r_fb, l_fb = CoilSet.get_outputs(coil_data_fb, params_fb)\n",
    "r_centroid_fb = CoilSet.get_r_centroid(coil_data_fb, params_fb)"
   ]
  },
  {
   "cell_type": "code",
   "execution_count": null,
   "metadata": {},
   "outputs": [],
   "source": []
  }
 ],
 "metadata": {
  "kernelspec": {
   "display_name": "Python 3",
   "language": "python",
   "name": "python3"
  },
  "language_info": {
   "codemirror_mode": {
    "name": "ipython",
    "version": 3
   },
   "file_extension": ".py",
   "mimetype": "text/x-python",
   "name": "python",
   "nbconvert_exporter": "python",
   "pygments_lexer": "ipython3",
   "version": "3.7.7"
  }
 },
 "nbformat": 4,
 "nbformat_minor": 4
}
